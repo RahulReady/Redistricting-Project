{
 "cells": [
  {
   "cell_type": "markdown",
   "metadata": {},
   "source": [
    "## Step 0: Imports"
   ]
  },
  {
   "cell_type": "code",
   "execution_count": 30,
   "metadata": {},
   "outputs": [],
   "source": [
    "from gerrychain import (GeographicPartition, \n",
    "                        Partition, \n",
    "                        Graph, \n",
    "                        MarkovChain,\n",
    "                        proposals, \n",
    "                        updaters, \n",
    "                        constraints, \n",
    "                        accept, \n",
    "                        Election)\n",
    "from gerrychain.constraints import (single_flip_contiguous, \n",
    "                                    no_more_discontiguous,\n",
    "                                    Validator)\n",
    "from gerrychain.updaters import Tally, cut_edges\n",
    "from gerrychain.proposals import propose_random_flip, recom\n",
    "from gerrychain.accept import always_accept\n",
    "\n",
    "import pandas as pd\n",
    "import numpy as np\n",
    "\n",
    "import matplotlib.pyplot as plt\n",
    "from functools import partial\n",
    "\n",
    "import networkx as nx\n",
    "import maup\n",
    "import geopandas\n",
    "\n",
    "import gerrychain"
   ]
  },
  {
   "cell_type": "code",
   "execution_count": 2,
   "metadata": {},
   "outputs": [],
   "source": [
    "pd.options.display.max_columns = None\n",
    "%matplotlib inline"
   ]
  },
  {
   "cell_type": "markdown",
   "metadata": {},
   "source": [
    "## Step 1: Setting up the initial districting plan"
   ]
  },
  {
   "cell_type": "markdown",
   "metadata": {},
   "source": [
    "### Wrangling the shapefile"
   ]
  },
  {
   "cell_type": "code",
   "execution_count": 3,
   "metadata": {},
   "outputs": [
    {
     "name": "stderr",
     "output_type": "stream",
     "text": [
      "C:\\Users\\HONGW\\anaconda3\\envs\\gerrychain\\lib\\site-packages\\gerrychain\\graph\\adjacency.py:66: UserWarning: Found overlaps among the given polygons. Indices of overlaps: {(887, 892), (893, 915), (892, 914), (887, 893)}\n",
      "  warnings.warn(\n",
      "C:\\Users\\HONGW\\anaconda3\\envs\\gerrychain\\lib\\site-packages\\gerrychain\\graph\\graph.py:261: UserWarning: NA values found in column G17DGOV!\n",
      "  warnings.warn(\"NA values found in column {}!\".format(column))\n"
     ]
    }
   ],
   "source": [
    "# Load the shapefile into a graph\n",
    "graph = Graph.from_file(\"VA_precincts/VA_precincts.shp\")"
   ]
  },
  {
   "cell_type": "code",
   "execution_count": 4,
   "metadata": {},
   "outputs": [],
   "source": [
    "# Load the shapefile into a geo pandas dataframe\n",
    "df = geopandas.read_file(\"VA_precincts/VA_precincts.shp\")"
   ]
  },
  {
   "cell_type": "code",
   "execution_count": 5,
   "metadata": {},
   "outputs": [
    {
     "data": {
      "text/html": [
       "<div>\n",
       "<style scoped>\n",
       "    .dataframe tbody tr th:only-of-type {\n",
       "        vertical-align: middle;\n",
       "    }\n",
       "\n",
       "    .dataframe tbody tr th {\n",
       "        vertical-align: top;\n",
       "    }\n",
       "\n",
       "    .dataframe thead th {\n",
       "        text-align: right;\n",
       "    }\n",
       "</style>\n",
       "<table border=\"1\" class=\"dataframe\">\n",
       "  <thead>\n",
       "    <tr style=\"text-align: right;\">\n",
       "      <th></th>\n",
       "      <th>precinct</th>\n",
       "      <th>locality</th>\n",
       "      <th>loc_prec</th>\n",
       "      <th>district</th>\n",
       "      <th>G18DHOR</th>\n",
       "      <th>G18DSEN</th>\n",
       "      <th>G18OHOR</th>\n",
       "      <th>G18OSEN</th>\n",
       "      <th>G18RHOR</th>\n",
       "      <th>G18RSEN</th>\n",
       "      <th>G17DGOV</th>\n",
       "      <th>G17DLTG</th>\n",
       "      <th>G17DATG</th>\n",
       "      <th>G17DHOD</th>\n",
       "      <th>G17RGOV</th>\n",
       "      <th>G17RLTG</th>\n",
       "      <th>G17RATG</th>\n",
       "      <th>G17RHOD</th>\n",
       "      <th>G17OHOD</th>\n",
       "      <th>G17OGOV</th>\n",
       "      <th>G16DPRS</th>\n",
       "      <th>G16RPRS</th>\n",
       "      <th>G16OPRS</th>\n",
       "      <th>G16DHOR</th>\n",
       "      <th>G16RHOR</th>\n",
       "      <th>G16OHOR</th>\n",
       "      <th>TOTPOP</th>\n",
       "      <th>NH_WHITE</th>\n",
       "      <th>NH_BLACK</th>\n",
       "      <th>NH_AMIN</th>\n",
       "      <th>NH_ASIAN</th>\n",
       "      <th>NH_NHPI</th>\n",
       "      <th>NH_OTHER</th>\n",
       "      <th>NH_2MORE</th>\n",
       "      <th>HISP</th>\n",
       "      <th>H_WHITE</th>\n",
       "      <th>H_BLACK</th>\n",
       "      <th>H_AMN</th>\n",
       "      <th>H_ASIAN</th>\n",
       "      <th>H_NHPI</th>\n",
       "      <th>H_OTHER</th>\n",
       "      <th>H_2MORE</th>\n",
       "      <th>VAP</th>\n",
       "      <th>HVAP</th>\n",
       "      <th>WVAP</th>\n",
       "      <th>BVAP</th>\n",
       "      <th>AMINVAP</th>\n",
       "      <th>ASIANVAP</th>\n",
       "      <th>NHPIVAP</th>\n",
       "      <th>OTHERVAP</th>\n",
       "      <th>2MOREVAP</th>\n",
       "      <th>CD_12</th>\n",
       "      <th>CD_16</th>\n",
       "      <th>HDIST_11</th>\n",
       "      <th>HDIST_REM</th>\n",
       "      <th>SENDIST</th>\n",
       "      <th>geometry</th>\n",
       "    </tr>\n",
       "  </thead>\n",
       "  <tbody>\n",
       "    <tr>\n",
       "      <th>0</th>\n",
       "      <td>Glenkirk</td>\n",
       "      <td>Prince William County</td>\n",
       "      <td>Prince William County Glenkirk</td>\n",
       "      <td>Congressional District 1</td>\n",
       "      <td>980.0</td>\n",
       "      <td>1044.0</td>\n",
       "      <td>0.0</td>\n",
       "      <td>32.0</td>\n",
       "      <td>950.0</td>\n",
       "      <td>856.0</td>\n",
       "      <td>715.0</td>\n",
       "      <td>701.0</td>\n",
       "      <td>698.0</td>\n",
       "      <td>650.0</td>\n",
       "      <td>744.0</td>\n",
       "      <td>763.0</td>\n",
       "      <td>769.0</td>\n",
       "      <td>804.0</td>\n",
       "      <td>0.0</td>\n",
       "      <td>13.0</td>\n",
       "      <td>1083.0</td>\n",
       "      <td>1155.0</td>\n",
       "      <td>119.0</td>\n",
       "      <td>920.0</td>\n",
       "      <td>1320.0</td>\n",
       "      <td>78.0</td>\n",
       "      <td>3651.999992</td>\n",
       "      <td>2324.999994</td>\n",
       "      <td>304.000000</td>\n",
       "      <td>8.000000</td>\n",
       "      <td>591.999998</td>\n",
       "      <td>1.000000e+00</td>\n",
       "      <td>4.000000</td>\n",
       "      <td>102.000000</td>\n",
       "      <td>316.000000</td>\n",
       "      <td>209.000000</td>\n",
       "      <td>8.000000</td>\n",
       "      <td>6.311268e-08</td>\n",
       "      <td>1.000000e+00</td>\n",
       "      <td>3.000000e+00</td>\n",
       "      <td>74.000000</td>\n",
       "      <td>21.000000</td>\n",
       "      <td>2474.999995</td>\n",
       "      <td>215.000000</td>\n",
       "      <td>1606.999997</td>\n",
       "      <td>199.000000</td>\n",
       "      <td>7.000000</td>\n",
       "      <td>400.999998</td>\n",
       "      <td>1.000000e+00</td>\n",
       "      <td>4.0</td>\n",
       "      <td>41.000000</td>\n",
       "      <td>1.0</td>\n",
       "      <td>1.0</td>\n",
       "      <td>13</td>\n",
       "      <td>13</td>\n",
       "      <td>13</td>\n",
       "      <td>POLYGON ((163199.056 308336.365, 163189.724 30...</td>\n",
       "    </tr>\n",
       "    <tr>\n",
       "      <th>1</th>\n",
       "      <td>Buckland Mills</td>\n",
       "      <td>Prince William County</td>\n",
       "      <td>Prince William County Buckland Mills</td>\n",
       "      <td>Congressional District 1</td>\n",
       "      <td>938.0</td>\n",
       "      <td>978.0</td>\n",
       "      <td>0.0</td>\n",
       "      <td>31.0</td>\n",
       "      <td>766.0</td>\n",
       "      <td>701.0</td>\n",
       "      <td>656.0</td>\n",
       "      <td>654.0</td>\n",
       "      <td>647.0</td>\n",
       "      <td>601.0</td>\n",
       "      <td>596.0</td>\n",
       "      <td>603.0</td>\n",
       "      <td>609.0</td>\n",
       "      <td>644.0</td>\n",
       "      <td>0.0</td>\n",
       "      <td>11.0</td>\n",
       "      <td>1007.0</td>\n",
       "      <td>807.0</td>\n",
       "      <td>78.0</td>\n",
       "      <td>920.0</td>\n",
       "      <td>932.0</td>\n",
       "      <td>11.0</td>\n",
       "      <td>3818.000031</td>\n",
       "      <td>2133.000020</td>\n",
       "      <td>405.000005</td>\n",
       "      <td>8.000000</td>\n",
       "      <td>643.000003</td>\n",
       "      <td>1.190457e-07</td>\n",
       "      <td>10.000000</td>\n",
       "      <td>150.000001</td>\n",
       "      <td>469.000001</td>\n",
       "      <td>265.000001</td>\n",
       "      <td>12.000000</td>\n",
       "      <td>1.000000e+01</td>\n",
       "      <td>1.000000e+00</td>\n",
       "      <td>0.000000e+00</td>\n",
       "      <td>141.000000</td>\n",
       "      <td>40.000000</td>\n",
       "      <td>2675.000021</td>\n",
       "      <td>313.000000</td>\n",
       "      <td>1539.000014</td>\n",
       "      <td>288.000004</td>\n",
       "      <td>7.000000</td>\n",
       "      <td>449.000002</td>\n",
       "      <td>1.190457e-07</td>\n",
       "      <td>6.0</td>\n",
       "      <td>73.000000</td>\n",
       "      <td>1.0</td>\n",
       "      <td>1.0</td>\n",
       "      <td>13</td>\n",
       "      <td>13</td>\n",
       "      <td>13</td>\n",
       "      <td>POLYGON ((162078.796 309095.892, 162068.091 30...</td>\n",
       "    </tr>\n",
       "    <tr>\n",
       "      <th>2</th>\n",
       "      <td>Limestone</td>\n",
       "      <td>Prince William County</td>\n",
       "      <td>Prince William County Limestone</td>\n",
       "      <td>Congressional District 1</td>\n",
       "      <td>1471.0</td>\n",
       "      <td>1562.0</td>\n",
       "      <td>0.0</td>\n",
       "      <td>55.0</td>\n",
       "      <td>1232.0</td>\n",
       "      <td>1079.0</td>\n",
       "      <td>1072.0</td>\n",
       "      <td>701.0</td>\n",
       "      <td>1035.0</td>\n",
       "      <td>963.0</td>\n",
       "      <td>917.0</td>\n",
       "      <td>881.0</td>\n",
       "      <td>970.0</td>\n",
       "      <td>1027.0</td>\n",
       "      <td>0.0</td>\n",
       "      <td>25.0</td>\n",
       "      <td>1520.0</td>\n",
       "      <td>1425.0</td>\n",
       "      <td>175.0</td>\n",
       "      <td>1345.0</td>\n",
       "      <td>1621.0</td>\n",
       "      <td>111.0</td>\n",
       "      <td>4496.999984</td>\n",
       "      <td>2690.999995</td>\n",
       "      <td>504.999996</td>\n",
       "      <td>6.000000</td>\n",
       "      <td>558.999998</td>\n",
       "      <td>1.828088e-08</td>\n",
       "      <td>15.000000</td>\n",
       "      <td>159.999999</td>\n",
       "      <td>560.999997</td>\n",
       "      <td>314.999998</td>\n",
       "      <td>34.000000</td>\n",
       "      <td>2.200000e+01</td>\n",
       "      <td>6.000000e+00</td>\n",
       "      <td>2.084499e-07</td>\n",
       "      <td>126.999999</td>\n",
       "      <td>57.000000</td>\n",
       "      <td>2876.999990</td>\n",
       "      <td>345.999998</td>\n",
       "      <td>1743.999996</td>\n",
       "      <td>344.999997</td>\n",
       "      <td>5.000000</td>\n",
       "      <td>368.999999</td>\n",
       "      <td>1.828088e-08</td>\n",
       "      <td>9.0</td>\n",
       "      <td>59.000000</td>\n",
       "      <td>1.0</td>\n",
       "      <td>1.0</td>\n",
       "      <td>13</td>\n",
       "      <td>13</td>\n",
       "      <td>13</td>\n",
       "      <td>POLYGON ((163554.036 308215.804, 163546.179 30...</td>\n",
       "    </tr>\n",
       "    <tr>\n",
       "      <th>3</th>\n",
       "      <td>Mullen</td>\n",
       "      <td>Prince William County</td>\n",
       "      <td>Prince William County Mullen</td>\n",
       "      <td>Congressional District 1</td>\n",
       "      <td>1312.0</td>\n",
       "      <td>1333.0</td>\n",
       "      <td>0.0</td>\n",
       "      <td>40.0</td>\n",
       "      <td>344.0</td>\n",
       "      <td>293.0</td>\n",
       "      <td>826.0</td>\n",
       "      <td>832.0</td>\n",
       "      <td>818.0</td>\n",
       "      <td>788.0</td>\n",
       "      <td>225.0</td>\n",
       "      <td>242.0</td>\n",
       "      <td>254.0</td>\n",
       "      <td>279.0</td>\n",
       "      <td>0.0</td>\n",
       "      <td>21.0</td>\n",
       "      <td>1669.0</td>\n",
       "      <td>553.0</td>\n",
       "      <td>121.0</td>\n",
       "      <td>1506.0</td>\n",
       "      <td>626.0</td>\n",
       "      <td>106.0</td>\n",
       "      <td>8228.999859</td>\n",
       "      <td>2136.999965</td>\n",
       "      <td>1619.999966</td>\n",
       "      <td>14.999999</td>\n",
       "      <td>435.999993</td>\n",
       "      <td>1.000000e+00</td>\n",
       "      <td>29.000000</td>\n",
       "      <td>255.999997</td>\n",
       "      <td>3734.999938</td>\n",
       "      <td>1455.999975</td>\n",
       "      <td>64.999999</td>\n",
       "      <td>2.500000e+01</td>\n",
       "      <td>4.000000e+00</td>\n",
       "      <td>0.000000e+00</td>\n",
       "      <td>1978.999970</td>\n",
       "      <td>205.999995</td>\n",
       "      <td>5779.999904</td>\n",
       "      <td>2390.999962</td>\n",
       "      <td>1754.999973</td>\n",
       "      <td>1136.999977</td>\n",
       "      <td>13.999999</td>\n",
       "      <td>342.999994</td>\n",
       "      <td>1.000000e+00</td>\n",
       "      <td>15.0</td>\n",
       "      <td>123.999999</td>\n",
       "      <td>1.0</td>\n",
       "      <td>1.0</td>\n",
       "      <td>13</td>\n",
       "      <td>13</td>\n",
       "      <td>13</td>\n",
       "      <td>POLYGON ((171765.688 311597.152, 171757.655 31...</td>\n",
       "    </tr>\n",
       "    <tr>\n",
       "      <th>4</th>\n",
       "      <td>Sudley</td>\n",
       "      <td>Prince William County</td>\n",
       "      <td>Prince William County Sudley</td>\n",
       "      <td>Congressional District 1</td>\n",
       "      <td>727.0</td>\n",
       "      <td>737.0</td>\n",
       "      <td>0.0</td>\n",
       "      <td>44.0</td>\n",
       "      <td>520.0</td>\n",
       "      <td>467.0</td>\n",
       "      <td>477.0</td>\n",
       "      <td>491.0</td>\n",
       "      <td>471.0</td>\n",
       "      <td>460.0</td>\n",
       "      <td>439.0</td>\n",
       "      <td>448.0</td>\n",
       "      <td>468.0</td>\n",
       "      <td>474.0</td>\n",
       "      <td>0.0</td>\n",
       "      <td>25.0</td>\n",
       "      <td>883.0</td>\n",
       "      <td>700.0</td>\n",
       "      <td>114.0</td>\n",
       "      <td>810.0</td>\n",
       "      <td>756.0</td>\n",
       "      <td>75.0</td>\n",
       "      <td>3655.000023</td>\n",
       "      <td>1942.000004</td>\n",
       "      <td>290.000005</td>\n",
       "      <td>9.000000</td>\n",
       "      <td>176.000002</td>\n",
       "      <td>2.000000e+00</td>\n",
       "      <td>8.000001</td>\n",
       "      <td>102.000000</td>\n",
       "      <td>1126.000012</td>\n",
       "      <td>421.000007</td>\n",
       "      <td>15.000000</td>\n",
       "      <td>3.300000e+01</td>\n",
       "      <td>2.166012e-08</td>\n",
       "      <td>0.000000e+00</td>\n",
       "      <td>585.000003</td>\n",
       "      <td>72.000002</td>\n",
       "      <td>2707.000016</td>\n",
       "      <td>726.000007</td>\n",
       "      <td>1559.000004</td>\n",
       "      <td>221.000003</td>\n",
       "      <td>8.000000</td>\n",
       "      <td>134.000001</td>\n",
       "      <td>2.000000e+00</td>\n",
       "      <td>8.0</td>\n",
       "      <td>49.000000</td>\n",
       "      <td>1.0</td>\n",
       "      <td>1.0</td>\n",
       "      <td>13</td>\n",
       "      <td>13</td>\n",
       "      <td>29</td>\n",
       "      <td>MULTIPOLYGON (((174200.152 312528.358, 174200....</td>\n",
       "    </tr>\n",
       "  </tbody>\n",
       "</table>\n",
       "</div>"
      ],
      "text/plain": [
       "         precinct               locality  \\\n",
       "0        Glenkirk  Prince William County   \n",
       "1  Buckland Mills  Prince William County   \n",
       "2       Limestone  Prince William County   \n",
       "3          Mullen  Prince William County   \n",
       "4          Sudley  Prince William County   \n",
       "\n",
       "                               loc_prec                  district G18DHOR  \\\n",
       "0        Prince William County Glenkirk  Congressional District 1   980.0   \n",
       "1  Prince William County Buckland Mills  Congressional District 1   938.0   \n",
       "2       Prince William County Limestone  Congressional District 1  1471.0   \n",
       "3          Prince William County Mullen  Congressional District 1  1312.0   \n",
       "4          Prince William County Sudley  Congressional District 1   727.0   \n",
       "\n",
       "  G18DSEN G18OHOR G18OSEN G18RHOR G18RSEN G17DGOV G17DLTG G17DATG G17DHOD  \\\n",
       "0  1044.0     0.0    32.0   950.0   856.0   715.0   701.0   698.0   650.0   \n",
       "1   978.0     0.0    31.0   766.0   701.0   656.0   654.0   647.0   601.0   \n",
       "2  1562.0     0.0    55.0  1232.0  1079.0  1072.0   701.0  1035.0   963.0   \n",
       "3  1333.0     0.0    40.0   344.0   293.0   826.0   832.0   818.0   788.0   \n",
       "4   737.0     0.0    44.0   520.0   467.0   477.0   491.0   471.0   460.0   \n",
       "\n",
       "  G17RGOV G17RLTG G17RATG G17RHOD G17OHOD G17OGOV G16DPRS G16RPRS G16OPRS  \\\n",
       "0   744.0   763.0   769.0   804.0     0.0    13.0  1083.0  1155.0   119.0   \n",
       "1   596.0   603.0   609.0   644.0     0.0    11.0  1007.0   807.0    78.0   \n",
       "2   917.0   881.0   970.0  1027.0     0.0    25.0  1520.0  1425.0   175.0   \n",
       "3   225.0   242.0   254.0   279.0     0.0    21.0  1669.0   553.0   121.0   \n",
       "4   439.0   448.0   468.0   474.0     0.0    25.0   883.0   700.0   114.0   \n",
       "\n",
       "  G16DHOR G16RHOR G16OHOR       TOTPOP     NH_WHITE     NH_BLACK    NH_AMIN  \\\n",
       "0   920.0  1320.0    78.0  3651.999992  2324.999994   304.000000   8.000000   \n",
       "1   920.0   932.0    11.0  3818.000031  2133.000020   405.000005   8.000000   \n",
       "2  1345.0  1621.0   111.0  4496.999984  2690.999995   504.999996   6.000000   \n",
       "3  1506.0   626.0   106.0  8228.999859  2136.999965  1619.999966  14.999999   \n",
       "4   810.0   756.0    75.0  3655.000023  1942.000004   290.000005   9.000000   \n",
       "\n",
       "     NH_ASIAN       NH_NHPI   NH_OTHER    NH_2MORE         HISP      H_WHITE  \\\n",
       "0  591.999998  1.000000e+00   4.000000  102.000000   316.000000   209.000000   \n",
       "1  643.000003  1.190457e-07  10.000000  150.000001   469.000001   265.000001   \n",
       "2  558.999998  1.828088e-08  15.000000  159.999999   560.999997   314.999998   \n",
       "3  435.999993  1.000000e+00  29.000000  255.999997  3734.999938  1455.999975   \n",
       "4  176.000002  2.000000e+00   8.000001  102.000000  1126.000012   421.000007   \n",
       "\n",
       "     H_BLACK         H_AMN       H_ASIAN        H_NHPI      H_OTHER  \\\n",
       "0   8.000000  6.311268e-08  1.000000e+00  3.000000e+00    74.000000   \n",
       "1  12.000000  1.000000e+01  1.000000e+00  0.000000e+00   141.000000   \n",
       "2  34.000000  2.200000e+01  6.000000e+00  2.084499e-07   126.999999   \n",
       "3  64.999999  2.500000e+01  4.000000e+00  0.000000e+00  1978.999970   \n",
       "4  15.000000  3.300000e+01  2.166012e-08  0.000000e+00   585.000003   \n",
       "\n",
       "      H_2MORE          VAP         HVAP         WVAP         BVAP    AMINVAP  \\\n",
       "0   21.000000  2474.999995   215.000000  1606.999997   199.000000   7.000000   \n",
       "1   40.000000  2675.000021   313.000000  1539.000014   288.000004   7.000000   \n",
       "2   57.000000  2876.999990   345.999998  1743.999996   344.999997   5.000000   \n",
       "3  205.999995  5779.999904  2390.999962  1754.999973  1136.999977  13.999999   \n",
       "4   72.000002  2707.000016   726.000007  1559.000004   221.000003   8.000000   \n",
       "\n",
       "     ASIANVAP       NHPIVAP  OTHERVAP    2MOREVAP  CD_12  CD_16 HDIST_11  \\\n",
       "0  400.999998  1.000000e+00       4.0   41.000000    1.0    1.0       13   \n",
       "1  449.000002  1.190457e-07       6.0   73.000000    1.0    1.0       13   \n",
       "2  368.999999  1.828088e-08       9.0   59.000000    1.0    1.0       13   \n",
       "3  342.999994  1.000000e+00      15.0  123.999999    1.0    1.0       13   \n",
       "4  134.000001  2.000000e+00       8.0   49.000000    1.0    1.0       13   \n",
       "\n",
       "  HDIST_REM SENDIST                                           geometry  \n",
       "0        13      13  POLYGON ((163199.056 308336.365, 163189.724 30...  \n",
       "1        13      13  POLYGON ((162078.796 309095.892, 162068.091 30...  \n",
       "2        13      13  POLYGON ((163554.036 308215.804, 163546.179 30...  \n",
       "3        13      13  POLYGON ((171765.688 311597.152, 171757.655 31...  \n",
       "4        13      29  MULTIPOLYGON (((174200.152 312528.358, 174200....  "
      ]
     },
     "execution_count": 5,
     "metadata": {},
     "output_type": "execute_result"
    }
   ],
   "source": [
    "df.head()"
   ]
  },
  {
   "cell_type": "code",
   "execution_count": 6,
   "metadata": {},
   "outputs": [
    {
     "name": "stdout",
     "output_type": "stream",
     "text": [
      "<class 'geopandas.geodataframe.GeoDataFrame'>\n",
      "RangeIndex: 2439 entries, 0 to 2438\n",
      "Data columns (total 57 columns):\n",
      " #   Column     Non-Null Count  Dtype   \n",
      "---  ------     --------------  -----   \n",
      " 0   precinct   2439 non-null   object  \n",
      " 1   locality   2439 non-null   object  \n",
      " 2   loc_prec   2439 non-null   object  \n",
      " 3   district   2439 non-null   object  \n",
      " 4   G18DHOR    2439 non-null   object  \n",
      " 5   G18DSEN    2439 non-null   object  \n",
      " 6   G18OHOR    2439 non-null   object  \n",
      " 7   G18OSEN    2439 non-null   object  \n",
      " 8   G18RHOR    2439 non-null   object  \n",
      " 9   G18RSEN    2439 non-null   object  \n",
      " 10  G17DGOV    2438 non-null   object  \n",
      " 11  G17DLTG    2439 non-null   object  \n",
      " 12  G17DATG    2439 non-null   object  \n",
      " 13  G17DHOD    2439 non-null   object  \n",
      " 14  G17RGOV    2439 non-null   object  \n",
      " 15  G17RLTG    2439 non-null   object  \n",
      " 16  G17RATG    2439 non-null   object  \n",
      " 17  G17RHOD    2439 non-null   object  \n",
      " 18  G17OHOD    2439 non-null   object  \n",
      " 19  G17OGOV    2439 non-null   object  \n",
      " 20  G16DPRS    2439 non-null   object  \n",
      " 21  G16RPRS    2439 non-null   object  \n",
      " 22  G16OPRS    2439 non-null   object  \n",
      " 23  G16DHOR    2439 non-null   object  \n",
      " 24  G16RHOR    2439 non-null   object  \n",
      " 25  G16OHOR    2439 non-null   object  \n",
      " 26  TOTPOP     2439 non-null   float64 \n",
      " 27  NH_WHITE   2439 non-null   float64 \n",
      " 28  NH_BLACK   2439 non-null   float64 \n",
      " 29  NH_AMIN    2439 non-null   float64 \n",
      " 30  NH_ASIAN   2439 non-null   float64 \n",
      " 31  NH_NHPI    2439 non-null   float64 \n",
      " 32  NH_OTHER   2439 non-null   float64 \n",
      " 33  NH_2MORE   2439 non-null   float64 \n",
      " 34  HISP       2439 non-null   float64 \n",
      " 35  H_WHITE    2439 non-null   float64 \n",
      " 36  H_BLACK    2439 non-null   float64 \n",
      " 37  H_AMN      2439 non-null   float64 \n",
      " 38  H_ASIAN    2439 non-null   float64 \n",
      " 39  H_NHPI     2439 non-null   float64 \n",
      " 40  H_OTHER    2439 non-null   float64 \n",
      " 41  H_2MORE    2439 non-null   float64 \n",
      " 42  VAP        2439 non-null   float64 \n",
      " 43  HVAP       2439 non-null   float64 \n",
      " 44  WVAP       2439 non-null   float64 \n",
      " 45  BVAP       2439 non-null   float64 \n",
      " 46  AMINVAP    2439 non-null   float64 \n",
      " 47  ASIANVAP   2439 non-null   float64 \n",
      " 48  NHPIVAP    2439 non-null   float64 \n",
      " 49  OTHERVAP   2439 non-null   float64 \n",
      " 50  2MOREVAP   2439 non-null   float64 \n",
      " 51  CD_12      2439 non-null   float64 \n",
      " 52  CD_16      2439 non-null   float64 \n",
      " 53  HDIST_11   2439 non-null   object  \n",
      " 54  HDIST_REM  2439 non-null   object  \n",
      " 55  SENDIST    2439 non-null   object  \n",
      " 56  geometry   2439 non-null   geometry\n",
      "dtypes: float64(27), geometry(1), object(29)\n",
      "memory usage: 1.1+ MB\n"
     ]
    }
   ],
   "source": [
    "df.info()"
   ]
  },
  {
   "cell_type": "code",
   "execution_count": 7,
   "metadata": {},
   "outputs": [],
   "source": [
    "# Fix UserWarning: NA values found in column G17DGOV!\n",
    "df.iloc[964, 10] = '0.0'"
   ]
  },
  {
   "cell_type": "code",
   "execution_count": 8,
   "metadata": {},
   "outputs": [],
   "source": [
    "# Convert to int type\n",
    "cols = ['G18DHOR', 'G18DSEN', 'G18OHOR', 'G18OSEN', 'G18RHOR', 'G18RSEN',\n",
    "        'G17DGOV', 'G17DLTG', 'G17DATG', 'G17DHOD', 'G17RGOV', 'G17RLTG', \n",
    "        'G17RATG', 'G17RHOD', 'G17OHOD', 'G17OGOV', 'G16DPRS', 'G16RPRS', \n",
    "        'G16OPRS', 'G16DHOR', 'G16RHOR', 'G16OHOR']\n",
    "df2 = df.copy()\n",
    "for col in cols:\n",
    "    df2[col] = df2[col].astype(float).astype(int)"
   ]
  },
  {
   "cell_type": "code",
   "execution_count": 9,
   "metadata": {},
   "outputs": [
    {
     "name": "stdout",
     "output_type": "stream",
     "text": [
      "<class 'geopandas.geodataframe.GeoDataFrame'>\n",
      "RangeIndex: 2439 entries, 0 to 2438\n",
      "Data columns (total 57 columns):\n",
      " #   Column     Non-Null Count  Dtype   \n",
      "---  ------     --------------  -----   \n",
      " 0   precinct   2439 non-null   object  \n",
      " 1   locality   2439 non-null   object  \n",
      " 2   loc_prec   2439 non-null   object  \n",
      " 3   district   2439 non-null   object  \n",
      " 4   G18DHOR    2439 non-null   int32   \n",
      " 5   G18DSEN    2439 non-null   int32   \n",
      " 6   G18OHOR    2439 non-null   int32   \n",
      " 7   G18OSEN    2439 non-null   int32   \n",
      " 8   G18RHOR    2439 non-null   int32   \n",
      " 9   G18RSEN    2439 non-null   int32   \n",
      " 10  G17DGOV    2439 non-null   int32   \n",
      " 11  G17DLTG    2439 non-null   int32   \n",
      " 12  G17DATG    2439 non-null   int32   \n",
      " 13  G17DHOD    2439 non-null   int32   \n",
      " 14  G17RGOV    2439 non-null   int32   \n",
      " 15  G17RLTG    2439 non-null   int32   \n",
      " 16  G17RATG    2439 non-null   int32   \n",
      " 17  G17RHOD    2439 non-null   int32   \n",
      " 18  G17OHOD    2439 non-null   int32   \n",
      " 19  G17OGOV    2439 non-null   int32   \n",
      " 20  G16DPRS    2439 non-null   int32   \n",
      " 21  G16RPRS    2439 non-null   int32   \n",
      " 22  G16OPRS    2439 non-null   int32   \n",
      " 23  G16DHOR    2439 non-null   int32   \n",
      " 24  G16RHOR    2439 non-null   int32   \n",
      " 25  G16OHOR    2439 non-null   int32   \n",
      " 26  TOTPOP     2439 non-null   float64 \n",
      " 27  NH_WHITE   2439 non-null   float64 \n",
      " 28  NH_BLACK   2439 non-null   float64 \n",
      " 29  NH_AMIN    2439 non-null   float64 \n",
      " 30  NH_ASIAN   2439 non-null   float64 \n",
      " 31  NH_NHPI    2439 non-null   float64 \n",
      " 32  NH_OTHER   2439 non-null   float64 \n",
      " 33  NH_2MORE   2439 non-null   float64 \n",
      " 34  HISP       2439 non-null   float64 \n",
      " 35  H_WHITE    2439 non-null   float64 \n",
      " 36  H_BLACK    2439 non-null   float64 \n",
      " 37  H_AMN      2439 non-null   float64 \n",
      " 38  H_ASIAN    2439 non-null   float64 \n",
      " 39  H_NHPI     2439 non-null   float64 \n",
      " 40  H_OTHER    2439 non-null   float64 \n",
      " 41  H_2MORE    2439 non-null   float64 \n",
      " 42  VAP        2439 non-null   float64 \n",
      " 43  HVAP       2439 non-null   float64 \n",
      " 44  WVAP       2439 non-null   float64 \n",
      " 45  BVAP       2439 non-null   float64 \n",
      " 46  AMINVAP    2439 non-null   float64 \n",
      " 47  ASIANVAP   2439 non-null   float64 \n",
      " 48  NHPIVAP    2439 non-null   float64 \n",
      " 49  OTHERVAP   2439 non-null   float64 \n",
      " 50  2MOREVAP   2439 non-null   float64 \n",
      " 51  CD_12      2439 non-null   float64 \n",
      " 52  CD_16      2439 non-null   float64 \n",
      " 53  HDIST_11   2439 non-null   object  \n",
      " 54  HDIST_REM  2439 non-null   object  \n",
      " 55  SENDIST    2439 non-null   object  \n",
      " 56  geometry   2439 non-null   geometry\n",
      "dtypes: float64(27), geometry(1), int32(22), object(7)\n",
      "memory usage: 876.6+ KB\n"
     ]
    }
   ],
   "source": [
    "df2.info()"
   ]
  },
  {
   "cell_type": "code",
   "execution_count": 10,
   "metadata": {},
   "outputs": [],
   "source": [
    "# Save to shapefile format\n",
    "df2.to_file('va.shp')"
   ]
  },
  {
   "cell_type": "markdown",
   "metadata": {},
   "source": [
    "### Generating a graph to be partitioned"
   ]
  },
  {
   "cell_type": "code",
   "execution_count": 11,
   "metadata": {
    "scrolled": true
   },
   "outputs": [
    {
     "name": "stderr",
     "output_type": "stream",
     "text": [
      "C:\\Users\\HONGW\\anaconda3\\envs\\gerrychain\\lib\\site-packages\\gerrychain\\graph\\adjacency.py:66: UserWarning: Found overlaps among the given polygons. Indices of overlaps: {(887, 892), (893, 915), (892, 914), (887, 893)}\n",
      "  warnings.warn(\n"
     ]
    }
   ],
   "source": [
    "graph = Graph.from_file(\"va.shp\")"
   ]
  },
  {
   "cell_type": "code",
   "execution_count": 54,
   "metadata": {},
   "outputs": [
    {
     "data": {
      "text/plain": [
       "0"
      ]
     },
     "execution_count": 54,
     "metadata": {},
     "output_type": "execute_result"
    }
   ],
   "source": [
    "# Number of islands (isolated district)\n",
    "len(graph.islands)"
   ]
  },
  {
   "cell_type": "markdown",
   "metadata": {},
   "source": [
    "### Setting up election data"
   ]
  },
  {
   "cell_type": "code",
   "execution_count": 12,
   "metadata": {},
   "outputs": [],
   "source": [
    "# Configure Election objects representing \n",
    "# some of the election data from shapefile\n",
    "elections = [\n",
    "    # Number of votes for 2018 senate candidate\n",
    "    Election(\"SEN18\", {\"Democratic\": \"G18DSEN\", \n",
    "                       \"Republican\": \"G18RSEN\",\n",
    "                       \"Other\": \"G18OSEN\"}),\n",
    "    # Number of votes for 2017 gubernatorial candidate\n",
    "    Election(\"GOV17\", {\"Democratic\": \"G17DGOV\", \n",
    "                       \"Republican\": \"G17RGOV\",\n",
    "                       \"Other\": \"G17OGOV\"}),\n",
    "    # Number of votes for 2016 presidential candidate\n",
    "    Election(\"PRES16\", {\"Democratic\": \"G16DPRS\", \n",
    "                        \"Republican\": \"G16RPRS\",\n",
    "                        \"Other\": \"G16OPRS\"}),\n",
    "    # Number of votes for 2016 US House candidate\n",
    "    Election(\"HOR16\", {\"Democratic\": \"G16DHOR\", \n",
    "                       \"Republican\": \"G16RHOR\",\n",
    "                       \"Other\": \"G16OHOR\"}),\n",
    "    # Voting age population\n",
    "    Election(\"VPOP\", {\"Hispanic\": \"HVAP\",\n",
    "                      \"White\": \"WVAP\",\n",
    "                      \"Black\": \"BVAP\",\n",
    "                      \"American Indian\": \"AMINVAP\",\n",
    "                      \"Asian\": \"ASIANVAP\",\n",
    "                      \"Native\": \"NHPIVAP\",\n",
    "                      \"Other\": \"OTHERVAP\"})\n",
    "]"
   ]
  },
  {
   "cell_type": "markdown",
   "metadata": {},
   "source": [
    "### Configuring our updaters"
   ]
  },
  {
   "cell_type": "code",
   "execution_count": 13,
   "metadata": {},
   "outputs": [],
   "source": [
    "# Configure our updaters \n",
    "my_updaters = {\n",
    "        \"cut_edges\": cut_edges,\n",
    "        \"population\": Tally(\"TOTPOP\", alias=\"population\")\n",
    "}\n",
    "election_updaters = {election.name: election for election in elections}\n",
    "my_updaters.update(election_updaters)"
   ]
  },
  {
   "cell_type": "markdown",
   "metadata": {},
   "source": [
    "### Instantiating the partition"
   ]
  },
  {
   "cell_type": "code",
   "execution_count": 14,
   "metadata": {},
   "outputs": [],
   "source": [
    "# Instantiate the initial state of our Markov chain, \n",
    "# using 2012 enacted congressional district ID.\n",
    "initial_partition = GeographicPartition(graph, \n",
    "                              assignment=\"CD_12\", \n",
    "                              updaters=my_updaters)"
   ]
  },
  {
   "cell_type": "code",
   "execution_count": 48,
   "metadata": {
    "scrolled": true
   },
   "outputs": [
    {
     "data": {
      "image/png": "[encoded data removed]",
      "text/plain": [
       "<Figure size 1080x1080 with 1 Axes>"
      ]
     },
     "metadata": {
      "needs_background": "light"
     },
     "output_type": "display_data"
    }
   ],
   "source": [
    "# Plotting districting plan\n",
    "initial_partition.plot(figsize=(15,15), cmap=\"tab20\")\n",
    "plt.axis('off')\n",
    "plt.show()"
   ]
  },
  {
   "cell_type": "markdown",
   "metadata": {},
   "source": [
    "### The underlying graph"
   ]
  },
  {
   "cell_type": "code",
   "execution_count": 32,
   "metadata": {},
   "outputs": [
    {
     "data": {
      "text/plain": [
       "<Graph [2439 nodes, 6859 edges]>"
      ]
     },
     "execution_count": 32,
     "metadata": {},
     "output_type": "execute_result"
    }
   ],
   "source": [
    "initial_partition.graph"
   ]
  },
  {
   "cell_type": "code",
   "execution_count": 34,
   "metadata": {},
   "outputs": [
    {
     "data": {
      "text/plain": [
       "{'boundary_node': False,\n",
       " 'area': 5223381.364718013,\n",
       " 'precinct': 'Glenkirk',\n",
       " 'locality': 'Prince William County',\n",
       " 'loc_prec': 'Prince William County Glenkirk',\n",
       " 'district': 'Congressional District 1',\n",
       " 'G18DHOR': 980,\n",
       " 'G18DSEN': 1044,\n",
       " 'G18OHOR': 0,\n",
       " 'G18OSEN': 32,\n",
       " 'G18RHOR': 950,\n",
       " 'G18RSEN': 856,\n",
       " 'G17DGOV': 715,\n",
       " 'G17DLTG': 701,\n",
       " 'G17DATG': 698,\n",
       " 'G17DHOD': 650,\n",
       " 'G17RGOV': 744,\n",
       " 'G17RLTG': 763,\n",
       " 'G17RATG': 769,\n",
       " 'G17RHOD': 804,\n",
       " 'G17OHOD': 0,\n",
       " 'G17OGOV': 13,\n",
       " 'G16DPRS': 1083,\n",
       " 'G16RPRS': 1155,\n",
       " 'G16OPRS': 119,\n",
       " 'G16DHOR': 920,\n",
       " 'G16RHOR': 1320,\n",
       " 'G16OHOR': 78,\n",
       " 'TOTPOP': 3651.999991623403,\n",
       " 'NH_WHITE': 2324.9999940296734,\n",
       " 'NH_BLACK': 304.0000000887875,\n",
       " 'NH_AMIN': 8.000000001742087,\n",
       " 'NH_ASIAN': 591.999997592487,\n",
       " 'NH_NHPI': 0.999999986279534,\n",
       " 'NH_OTHER': 3.999999996110087,\n",
       " 'NH_2MORE': 101.99999983433004,\n",
       " 'HISP': 316.000000093993,\n",
       " 'H_WHITE': 208.9999998809002,\n",
       " 'H_BLACK': 8.000000085355632,\n",
       " 'H_AMN': 6.311268e-08,\n",
       " 'H_ASIAN': 1.0,\n",
       " 'H_NHPI': 2.999999791550123,\n",
       " 'H_OTHER': 74.00000025891565,\n",
       " 'H_2MORE': 21.00000001415864,\n",
       " 'VAP': 2474.999995078959,\n",
       " 'HVAP': 215.00000018091444,\n",
       " 'WVAP': 1606.9999966828047,\n",
       " 'BVAP': 199.00000001454748,\n",
       " 'AMINVAP': 7.000000002931174,\n",
       " 'ASIANVAP': 400.99999845337777,\n",
       " 'NHPIVAP': 0.999999986279534,\n",
       " 'OTHERVAP': 3.99999999204267,\n",
       " '2MOREVAP': 40.999999766061386,\n",
       " 'CD_12': 1.0,\n",
       " 'CD_16': 1.0,\n",
       " 'HDIST_11': '13',\n",
       " 'HDIST_REM': '13',\n",
       " 'SENDIST': '13',\n",
       " 'geometry': <shapely.geometry.polygon.Polygon at 0x1c0cd3d6af0>}"
      ]
     },
     "execution_count": 34,
     "metadata": {},
     "output_type": "execute_result"
    }
   ],
   "source": [
    "initial_partition.graph.nodes[0]"
   ]
  },
  {
   "cell_type": "markdown",
   "metadata": {},
   "source": [
    "### Assign nodes to part (district)"
   ]
  },
  {
   "cell_type": "code",
   "execution_count": 35,
   "metadata": {},
   "outputs": [
    {
     "name": "stdout",
     "output_type": "stream",
     "text": [
      "1.0\n",
      "1.0\n",
      "1.0\n",
      "1.0\n",
      "1.0\n",
      "1.0\n",
      "1.0\n",
      "1.0\n",
      "1.0\n",
      "1.0\n"
     ]
    }
   ],
   "source": [
    "first_ten_nodes = list(initial_partition.graph.nodes)[:10]\n",
    "for node in first_ten_nodes:\n",
    "    print(initial_partition.assignment[node])"
   ]
  },
  {
   "cell_type": "markdown",
   "metadata": {},
   "source": [
    "First ten nodes belongs to district 1"
   ]
  },
  {
   "cell_type": "markdown",
   "metadata": {},
   "source": [
    "### The nodes in each part"
   ]
  },
  {
   "cell_type": "code",
   "execution_count": 36,
   "metadata": {},
   "outputs": [
    {
     "name": "stdout",
     "output_type": "stream",
     "text": [
      "Part 1.0 has 196 nodes\n",
      "Part 2.0 has 168 nodes\n",
      "Part 3.0 has 211 nodes\n",
      "Part 4.0 has 243 nodes\n",
      "Part 5.0 has 305 nodes\n",
      "Part 6.0 has 228 nodes\n",
      "Part 7.0 has 228 nodes\n",
      "Part 8.0 has 165 nodes\n",
      "Part 9.0 has 333 nodes\n",
      "Part 10.0 has 204 nodes\n",
      "Part 11.0 has 158 nodes\n"
     ]
    }
   ],
   "source": [
    "for part in initial_partition.parts:\n",
    "    number_of_nodes = len(initial_partition.parts[part])\n",
    "    print(f\"Part {part} has {number_of_nodes} nodes\")"
   ]
  },
  {
   "cell_type": "markdown",
   "metadata": {},
   "source": [
    "### The subgraphs of each part"
   ]
  },
  {
   "cell_type": "code",
   "execution_count": 38,
   "metadata": {},
   "outputs": [
    {
     "name": "stdout",
     "output_type": "stream",
     "text": [
      "Part 1.0 has 480 edges\n",
      "Part 2.0 has 406 edges\n",
      "Part 3.0 has 484 edges\n",
      "Part 4.0 has 610 edges\n",
      "Part 5.0 has 778 edges\n",
      "Part 6.0 has 580 edges\n",
      "Part 7.0 has 580 edges\n",
      "Part 8.0 has 424 edges\n",
      "Part 9.0 has 866 edges\n",
      "Part 10.0 has 488 edges\n",
      "Part 11.0 has 354 edges\n"
     ]
    }
   ],
   "source": [
    "for part, subgraph in initial_partition.subgraphs.items():\n",
    "    number_of_edges = len(subgraph.edges)\n",
    "    print(f\"Part {part} has {number_of_edges} edges\")"
   ]
  },
  {
   "cell_type": "code",
   "execution_count": 40,
   "metadata": {},
   "outputs": [
    {
     "name": "stdout",
     "output_type": "stream",
     "text": [
      "Part 1.0 has diameter 22\n",
      "Part 2.0 has diameter 20\n",
      "Part 3.0 has diameter 32\n",
      "Part 4.0 has diameter 22\n",
      "Part 5.0 has diameter 31\n",
      "Part 6.0 has diameter 25\n",
      "Part 7.0 has diameter 20\n",
      "Part 8.0 has diameter 16\n",
      "Part 9.0 has diameter 28\n",
      "Part 10.0 has diameter 20\n",
      "Part 11.0 has diameter 24\n"
     ]
    }
   ],
   "source": [
    "for part, subgraph in initial_partition.subgraphs.items():\n",
    "    diameter = nx.diameter(subgraph)\n",
    "    print(f\"Part {part} has diameter {diameter}\")"
   ]
  },
  {
   "cell_type": "markdown",
   "metadata": {},
   "source": [
    "The diameter of a graph is the length of the longest shortest path between any two nodes in the graph."
   ]
  },
  {
   "cell_type": "markdown",
   "metadata": {},
   "source": [
    "### Outputs of updaters"
   ]
  },
  {
   "cell_type": "code",
   "execution_count": 41,
   "metadata": {},
   "outputs": [
    {
     "data": {
      "text/plain": [
       "809"
      ]
     },
     "execution_count": 41,
     "metadata": {},
     "output_type": "execute_result"
    }
   ],
   "source": [
    "len(initial_partition[\"cut_edges\"])"
   ]
  },
  {
   "cell_type": "code",
   "execution_count": 42,
   "metadata": {},
   "outputs": [
    {
     "name": "stdout",
     "output_type": "stream",
     "text": [
      "Proportion of edges that are cut: 0.11794722262720513\n"
     ]
    }
   ],
   "source": [
    "proportion_of_cut_edges = \\\n",
    "    len(initial_partition.cut_edges) / len(initial_partition.graph.edges)\n",
    "print(\"Proportion of edges that are cut:\", proportion_of_cut_edges)"
   ]
  },
  {
   "cell_type": "code",
   "execution_count": 44,
   "metadata": {},
   "outputs": [
    {
     "data": {
      "text/plain": [
       "{1.0: 729829.999851378,\n",
       " 2.0: 699644.0001874466,\n",
       " 3.0: 763051.9993695281,\n",
       " 4.0: 720016.0002511287,\n",
       " 5.0: 727243.9999598453,\n",
       " 6.0: 727366.0001690277,\n",
       " 7.0: 726895.0001887272,\n",
       " 8.0: 729484.9997716589,\n",
       " 9.0: 727486.9996559347,\n",
       " 10.0: 723848.0006304994,\n",
       " 11.0: 726156.9995344761}"
      ]
     },
     "execution_count": 44,
     "metadata": {},
     "output_type": "execute_result"
    }
   ],
   "source": [
    "# Population in each part\n",
    "initial_partition['population']"
   ]
  },
  {
   "cell_type": "markdown",
   "metadata": {},
   "source": [
    "## Step 3: Setting up the Markov chain"
   ]
  },
  {
   "cell_type": "markdown",
   "metadata": {},
   "source": [
    "### Proposal"
   ]
  },
  {
   "cell_type": "code",
   "execution_count": 15,
   "metadata": {},
   "outputs": [
    {
     "name": "stdout",
     "output_type": "stream",
     "text": [
      "727365.8181426955\n"
     ]
    }
   ],
   "source": [
    "# The ReCom proposal needs to know the ideal population \n",
    "# for the districts so that we can improve speed by \n",
    "# bailing early on unbalanced partitions.\n",
    "ideal_population = \\\n",
    "    sum(initial_partition[\"population\"].values()) / len(initial_partition)\n",
    "print(ideal_population)"
   ]
  },
  {
   "cell_type": "code",
   "execution_count": 16,
   "metadata": {},
   "outputs": [],
   "source": [
    "# Use functools.partial to bind the extra parameters \n",
    "# (pop_col, pop_target, epsilon, node_repeats) of the recom proposal.\n",
    "proposal = partial(recom,\n",
    "                   pop_col=\"TOTPOP\",\n",
    "                   pop_target=ideal_population,\n",
    "                   epsilon=0.05,\n",
    "                   node_repeats=2)"
   ]
  },
  {
   "cell_type": "markdown",
   "metadata": {},
   "source": [
    "### Constraints"
   ]
  },
  {
   "cell_type": "code",
   "execution_count": 17,
   "metadata": {},
   "outputs": [],
   "source": [
    "# To keep districts about as compact as the original plan, \n",
    "# bound the number of cut edges at 2 times the number of cut edges \n",
    "# in the initial plan\n",
    "compactness_bound = constraints.UpperBound(\n",
    "    lambda p: len(p[\"cut_edges\"]),\n",
    "    2*len(initial_partition[\"cut_edges\"])\n",
    ")\n",
    "pop_constraint = \\\n",
    "    constraints.within_percent_of_ideal_population(initial_partition, 0.05)"
   ]
  },
  {
   "cell_type": "markdown",
   "metadata": {},
   "source": [
    "### Configuring the Markov chain"
   ]
  },
  {
   "cell_type": "code",
   "execution_count": 18,
   "metadata": {},
   "outputs": [],
   "source": [
    "chain = MarkovChain(\n",
    "    proposal=proposal,\n",
    "    constraints=[pop_constraint, compactness_bound],\n",
    "    accept=accept.always_accept,\n",
    "    initial_state=initial_partition,\n",
    "    total_steps=1000\n",
    ")"
   ]
  },
  {
   "cell_type": "markdown",
   "metadata": {},
   "source": [
    "### Running the chain"
   ]
  },
  {
   "cell_type": "code",
   "execution_count": 19,
   "metadata": {},
   "outputs": [],
   "source": [
    "# Run the chain, putting the sorted Asian voting age population percentages\n",
    "# into a pandas DataFrame for analysis and plotting.\n",
    "# This will take about 10 minutes.\n",
    "\n",
    "asian_vpop = pd.DataFrame(\n",
    "    sorted(partition[\"VPOP\"].percents(\"Asian\"))\n",
    "    for partition in chain\n",
    ")"
   ]
  },
  {
   "cell_type": "code",
   "execution_count": 20,
   "metadata": {},
   "outputs": [
    {
     "data": {
      "image/png": "[encoded data removed]",
      "text/plain": [
       "<Figure size 720x576 with 1 Axes>"
      ]
     },
     "metadata": {
      "needs_background": "light"
     },
     "output_type": "display_data"
    }
   ],
   "source": [
    "fig, ax = plt.subplots(figsize=(10, 8))\n",
    "\n",
    "# Draw 50% line\n",
    "ax.axhline(0.5, color=\"#cccccc\")\n",
    "\n",
    "# Draw boxplot\n",
    "asian_vpop.boxplot(ax=ax, positions=range(len(asian_vpop.columns)))\n",
    "\n",
    "# Draw initial plan's Democratic vote %s (.iloc[0] gives the first row)\n",
    "plt.plot(asian_vpop.iloc[0], \"ro\")\n",
    "\n",
    "# Annotate\n",
    "ax.set_title(\"Comparing the 2012 plan to an ensemble\", fontsize=24)\n",
    "ax.set_ylabel(\"Asian Voting Age Population (%)\", fontsize=18)\n",
    "ax.set_xlabel(\"Sorted districts\", fontsize=18)\n",
    "ax.set_ylim(0, 1)\n",
    "ax.set_yticks([0, 0.25, 0.5, 0.75, 1])\n",
    "\n",
    "plt.show()"
   ]
  },
  {
   "cell_type": "code",
   "execution_count": 21,
   "metadata": {},
   "outputs": [],
   "source": [
    "dem_pres = pd.DataFrame(\n",
    "    sorted(partition[\"PRES16\"].percents(\"Democratic\"))\n",
    "    for partition in chain\n",
    ")"
   ]
  },
  {
   "cell_type": "code",
   "execution_count": 22,
   "metadata": {},
   "outputs": [
    {
     "data": {
      "image/png": "[encoded data removed]",
      "text/plain": [
       "<Figure size 720x576 with 1 Axes>"
      ]
     },
     "metadata": {
      "needs_background": "light"
     },
     "output_type": "display_data"
    }
   ],
   "source": [
    "fig, ax = plt.subplots(figsize=(10, 8))\n",
    "\n",
    "# Draw 50% line\n",
    "ax.axhline(0.5, color=\"#cccccc\")\n",
    "\n",
    "# Draw boxplot\n",
    "dem_pres.boxplot(ax=ax, positions=range(len(dem_pres.columns)))\n",
    "\n",
    "# Draw initial plan's Democratic vote %s (.iloc[0] gives the first row)\n",
    "plt.plot(dem_pres.iloc[0], \"ro\")\n",
    "\n",
    "# Annotate\n",
    "ax.set_title(\"Comparing the 2012 plan to an ensemble\", fontsize=24)\n",
    "ax.set_ylabel(\"Democratic Vote % (Presential Ele 2016)\", fontsize=18)\n",
    "ax.set_xlabel(\"Sorted districts\", fontsize=18)\n",
    "ax.set_ylim(0, 1)\n",
    "ax.set_yticks([0, 0.25, 0.5, 0.75, 1])\n",
    "\n",
    "plt.show()"
   ]
  },
  {
   "cell_type": "code",
   "execution_count": null,
   "metadata": {},
   "outputs": [],
   "source": []
  }
 ],
 "metadata": {
  "kernelspec": {
   "display_name": "Python 3",
   "language": "python",
   "name": "python3"
  },
  "language_info": {
   "codemirror_mode": {
    "name": "ipython",
    "version": 3
   },
   "file_extension": ".py",
   "mimetype": "text/x-python",
   "name": "python",
   "nbconvert_exporter": "python",
   "pygments_lexer": "ipython3",
   "version": "3.8.6"
  }
 },
 "nbformat": 4,
 "nbformat_minor": 4
}
