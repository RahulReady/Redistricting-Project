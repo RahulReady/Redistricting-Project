{
 "cells": [
  {
   "cell_type": "markdown",
   "metadata": {},
   "source": [
    "## Step 0: Imports"
   ]
  },
  {
   "cell_type": "code",
   "execution_count": 1,
   "metadata": {},
   "outputs": [],
   "source": [
    "from gerrychain import (GeographicPartition, \n",
    "                        Partition, \n",
    "                        Graph, \n",
    "                        MarkovChain,\n",
    "                        proposals, \n",
    "                        updaters, \n",
    "                        constraints, \n",
    "                        accept, \n",
    "                        Election)\n",
    "from gerrychain.constraints import (single_flip_contiguous, \n",
    "                                    no_more_discontiguous,\n",
    "                                    Validator)\n",
    "from gerrychain.updaters import Tally, cut_edges\n",
    "from gerrychain.proposals import propose_random_flip, recom\n",
    "from gerrychain.accept import always_accept\n",
    "\n",
    "import pandas as pd\n",
    "import numpy as np\n",
    "\n",
    "import matplotlib.pyplot as plt\n",
    "from functools import partial\n",
    "\n",
    "import networkx as nx\n",
    "import maup\n",
    "import geopandas\n",
    "\n",
    "import gerrychain"
   ]
  },
  {
   "cell_type": "code",
   "execution_count": 2,
   "metadata": {},
   "outputs": [],
   "source": [
    "pd.options.display.max_columns = None\n",
    "%matplotlib inline"
   ]
  },
  {
   "cell_type": "markdown",
   "metadata": {},
   "source": [
    "## Step 1: Setting up the initial districting plan"
   ]
  },
  {
   "cell_type": "markdown",
   "metadata": {},
   "source": [
    "### Generating a graph to be partitioned"
   ]
  },
  {
   "cell_type": "code",
   "execution_count": 3,
   "metadata": {
    "scrolled": true
   },
   "outputs": [
    {
     "name": "stderr",
     "output_type": "stream",
     "text": [
      "/usr/local/anaconda3/lib/python3.7/site-packages/gerrychain/graph/adjacency.py:68: UserWarning: Found overlaps among the given polygons. Indices of overlaps: {(892, 914), (893, 915), (887, 892), (887, 893)}\n",
      "  overlaps\n"
     ]
    }
   ],
   "source": [
    "graph = Graph.from_file(\"VA_precincts_cleaned/va.shp\")"
   ]
  },
  {
   "cell_type": "code",
   "execution_count": 4,
   "metadata": {},
   "outputs": [
    {
     "data": {
      "text/plain": [
       "0"
      ]
     },
     "execution_count": 4,
     "metadata": {},
     "output_type": "execute_result"
    }
   ],
   "source": [
    "# Number of islands (isolated district)\n",
    "len(graph.islands)"
   ]
  },
  {
   "cell_type": "markdown",
   "metadata": {},
   "source": [
    "### Setting up election data"
   ]
  },
  {
   "cell_type": "code",
   "execution_count": 5,
   "metadata": {},
   "outputs": [],
   "source": [
    "# Configure Election objects representing \n",
    "# some of the election data from shapefile\n",
    "elections = [\n",
    "    # Number of votes for 2018 senate candidate\n",
    "    Election(\"SEN18\", {\"Democratic\": \"G18DSEN\", \n",
    "                       \"Republican\": \"G18RSEN\",\n",
    "                       \"Other\": \"G18OSEN\"}),\n",
    "    # Number of votes for 2017 gubernatorial candidate\n",
    "    Election(\"GOV17\", {\"Democratic\": \"G17DGOV\", \n",
    "                       \"Republican\": \"G17RGOV\",\n",
    "                       \"Other\": \"G17OGOV\"}),\n",
    "    # Number of votes for 2016 presidential candidate\n",
    "    Election(\"PRES16\", {\"Democratic\": \"G16DPRS\", \n",
    "                        \"Republican\": \"G16RPRS\",\n",
    "                        \"Other\": \"G16OPRS\"}),\n",
    "    # Number of votes for 2016 US House candidate\n",
    "    Election(\"HOR16\", {\"Democratic\": \"G16DHOR\", \n",
    "                       \"Republican\": \"G16RHOR\",\n",
    "                       \"Other\": \"G16OHOR\"}),\n",
    "    # Voting age population\n",
    "    Election(\"VPOP\", {\"Hispanic\": \"HVAP\",\n",
    "                      \"White\": \"WVAP\",\n",
    "                      \"Black\": \"BVAP\",\n",
    "                      \"American Indian\": \"AMINVAP\",\n",
    "                      \"Asian\": \"ASIANVAP\",\n",
    "                      \"Native\": \"NHPIVAP\",\n",
    "                      \"Other\": \"OTHERVAP\"})\n",
    "]"
   ]
  },
  {
   "cell_type": "markdown",
   "metadata": {},
   "source": [
    "### Configuring our updaters"
   ]
  },
  {
   "cell_type": "code",
   "execution_count": 6,
   "metadata": {},
   "outputs": [
    {
     "ename": "SyntaxError",
     "evalue": "invalid syntax (<ipython-input-6-c829a1c77008>, line 5)",
     "output_type": "error",
     "traceback": [
      "\u001b[0;36m  File \u001b[0;32m\"<ipython-input-6-c829a1c77008>\"\u001b[0;36m, line \u001b[0;32m5\u001b[0m\n\u001b[0;31m    \"BVAP_population\": Tally(\"BVAP\", alias=\"BVAP_population\")\u001b[0m\n\u001b[0m                    ^\u001b[0m\n\u001b[0;31mSyntaxError\u001b[0m\u001b[0;31m:\u001b[0m invalid syntax\n"
     ]
    }
   ],
   "source": [
    "# Configure our updaters \n",
    "my_updaters = {\n",
    "        \"cut_edges\": cut_edges,\n",
    "        \"population\": Tally(\"TOTPOP\", alias=\"population\")\n",
    "        \"BVAP_population\": Tally(\"BVAP\", alias=\"BVAP_population\")    \n",
    "\n",
    "}\n",
    "election_updaters = {election.name: election for election in elections}\n",
    "my_updaters.update(election_updaters)"
   ]
  },
  {
   "cell_type": "markdown",
   "metadata": {},
   "source": [
    "### Instantiating the partition"
   ]
  },
  {
   "cell_type": "code",
   "execution_count": null,
   "metadata": {},
   "outputs": [],
   "source": [
    "# Instantiate the initial state of our Markov chain, \n",
    "# using 2012 enacted congressional district ID.\n",
    "initial_partition = GeographicPartition(graph, \n",
    "                              assignment=\"CD_12\", \n",
    "                              updaters=my_updaters)"
   ]
  },
  {
   "cell_type": "code",
   "execution_count": null,
   "metadata": {
    "scrolled": true
   },
   "outputs": [],
   "source": [
    "# Plotting districting plan\n",
    "initial_partition.plot(figsize=(15,15), cmap=\"tab20\")\n",
    "plt.axis('off')\n",
    "plt.show()"
   ]
  },
  {
   "cell_type": "markdown",
   "metadata": {},
   "source": [
    "### The underlying graph"
   ]
  },
  {
   "cell_type": "code",
   "execution_count": 9,
   "metadata": {},
   "outputs": [
    {
     "data": {
      "text/plain": [
       "<Graph [2439 nodes, 6859 edges]>"
      ]
     },
     "execution_count": 9,
     "metadata": {},
     "output_type": "execute_result"
    }
   ],
   "source": [
    "initial_partition.graph"
   ]
  },
  {
   "cell_type": "code",
   "execution_count": 10,
   "metadata": {},
   "outputs": [
    {
     "data": {
      "text/plain": [
       "{'boundary_node': False,\n",
       " 'area': 5223381.364718013,\n",
       " 'precinct': 'Glenkirk',\n",
       " 'locality': 'Prince William County',\n",
       " 'loc_prec': 'Prince William County Glenkirk',\n",
       " 'district': 'Congressional District 1',\n",
       " 'G18DHOR': 980,\n",
       " 'G18DSEN': 1044,\n",
       " 'G18OHOR': 0,\n",
       " 'G18OSEN': 32,\n",
       " 'G18RHOR': 950,\n",
       " 'G18RSEN': 856,\n",
       " 'G17DGOV': 715,\n",
       " 'G17DLTG': 701,\n",
       " 'G17DATG': 698,\n",
       " 'G17DHOD': 650,\n",
       " 'G17RGOV': 744,\n",
       " 'G17RLTG': 763,\n",
       " 'G17RATG': 769,\n",
       " 'G17RHOD': 804,\n",
       " 'G17OHOD': 0,\n",
       " 'G17OGOV': 13,\n",
       " 'G16DPRS': 1083,\n",
       " 'G16RPRS': 1155,\n",
       " 'G16OPRS': 119,\n",
       " 'G16DHOR': 920,\n",
       " 'G16RHOR': 1320,\n",
       " 'G16OHOR': 78,\n",
       " 'TOTPOP': 3651.999991623403,\n",
       " 'NH_WHITE': 2324.9999940296734,\n",
       " 'NH_BLACK': 304.0000000887875,\n",
       " 'NH_AMIN': 8.000000001742087,\n",
       " 'NH_ASIAN': 591.999997592487,\n",
       " 'NH_NHPI': 0.999999986279534,\n",
       " 'NH_OTHER': 3.999999996110087,\n",
       " 'NH_2MORE': 101.99999983433004,\n",
       " 'HISP': 316.000000093993,\n",
       " 'H_WHITE': 208.9999998809002,\n",
       " 'H_BLACK': 8.000000085355632,\n",
       " 'H_AMN': 6.311268e-08,\n",
       " 'H_ASIAN': 1.0,\n",
       " 'H_NHPI': 2.999999791550123,\n",
       " 'H_OTHER': 74.00000025891565,\n",
       " 'H_2MORE': 21.00000001415864,\n",
       " 'VAP': 2474.999995078959,\n",
       " 'HVAP': 215.00000018091444,\n",
       " 'WVAP': 1606.9999966828047,\n",
       " 'BVAP': 199.00000001454748,\n",
       " 'AMINVAP': 7.000000002931174,\n",
       " 'ASIANVAP': 400.99999845337777,\n",
       " 'NHPIVAP': 0.999999986279534,\n",
       " 'OTHERVAP': 3.99999999204267,\n",
       " '2MOREVAP': 40.999999766061386,\n",
       " 'CD_12': 1.0,\n",
       " 'CD_16': 1.0,\n",
       " 'HDIST_11': '13',\n",
       " 'HDIST_REM': '13',\n",
       " 'SENDIST': '13',\n",
       " 'geometry': <shapely.geometry.polygon.Polygon at 0xa1b3bd210>}"
      ]
     },
     "execution_count": 10,
     "metadata": {},
     "output_type": "execute_result"
    }
   ],
   "source": [
    "initial_partition.graph.nodes[0]"
   ]
  },
  {
   "cell_type": "markdown",
   "metadata": {},
   "source": [
    "### The subgraphs of each part"
   ]
  },
  {
   "cell_type": "code",
   "execution_count": 13,
   "metadata": {},
   "outputs": [
    {
     "name": "stdout",
     "output_type": "stream",
     "text": [
      "Part 1.0 has 480 edges\n",
      "Part 2.0 has 406 edges\n",
      "Part 3.0 has 484 edges\n",
      "Part 4.0 has 610 edges\n",
      "Part 5.0 has 778 edges\n",
      "Part 6.0 has 580 edges\n",
      "Part 7.0 has 580 edges\n",
      "Part 8.0 has 424 edges\n",
      "Part 9.0 has 866 edges\n",
      "Part 10.0 has 488 edges\n",
      "Part 11.0 has 354 edges\n"
     ]
    }
   ],
   "source": [
    "for part, subgraph in initial_partition.subgraphs.items():\n",
    "    number_of_edges = len(subgraph.edges)\n",
    "    print(f\"Part {part} has {number_of_edges} edges\")"
   ]
  },
  {
   "cell_type": "code",
   "execution_count": 40,
   "metadata": {},
   "outputs": [
    {
     "name": "stdout",
     "output_type": "stream",
     "text": [
      "Part 1.0 has diameter 22\n",
      "Part 2.0 has diameter 20\n",
      "Part 3.0 has diameter 32\n",
      "Part 4.0 has diameter 22\n",
      "Part 5.0 has diameter 31\n",
      "Part 6.0 has diameter 25\n",
      "Part 7.0 has diameter 20\n",
      "Part 8.0 has diameter 16\n",
      "Part 9.0 has diameter 28\n",
      "Part 10.0 has diameter 20\n",
      "Part 11.0 has diameter 24\n"
     ]
    }
   ],
   "source": [
    "for part, subgraph in initial_partition.subgraphs.items():\n",
    "    diameter = nx.diameter(subgraph)\n",
    "    print(f\"Part {part} has diameter {diameter}\")"
   ]
  },
  {
   "cell_type": "markdown",
   "metadata": {},
   "source": [
    "The diameter of a graph is the length of the longest shortest path between any two nodes in the graph."
   ]
  },
  {
   "cell_type": "markdown",
   "metadata": {},
   "source": [
    "### Outputs of updaters"
   ]
  },
  {
   "cell_type": "code",
   "execution_count": 41,
   "metadata": {},
   "outputs": [
    {
     "data": {
      "text/plain": [
       "809"
      ]
     },
     "execution_count": 41,
     "metadata": {},
     "output_type": "execute_result"
    }
   ],
   "source": [
    "len(initial_partition[\"cut_edges\"])"
   ]
  },
  {
   "cell_type": "code",
   "execution_count": 42,
   "metadata": {},
   "outputs": [
    {
     "name": "stdout",
     "output_type": "stream",
     "text": [
      "Proportion of edges that are cut: 0.11794722262720513\n"
     ]
    }
   ],
   "source": [
    "proportion_of_cut_edges = \\\n",
    "    len(initial_partition.cut_edges) / len(initial_partition.graph.edges)\n",
    "print(\"Proportion of edges that are cut:\", proportion_of_cut_edges)"
   ]
  },
  {
   "cell_type": "code",
   "execution_count": 44,
   "metadata": {},
   "outputs": [
    {
     "data": {
      "text/plain": [
       "{1.0: 729829.999851378,\n",
       " 2.0: 699644.0001874466,\n",
       " 3.0: 763051.9993695281,\n",
       " 4.0: 720016.0002511287,\n",
       " 5.0: 727243.9999598453,\n",
       " 6.0: 727366.0001690277,\n",
       " 7.0: 726895.0001887272,\n",
       " 8.0: 729484.9997716589,\n",
       " 9.0: 727486.9996559347,\n",
       " 10.0: 723848.0006304994,\n",
       " 11.0: 726156.9995344761}"
      ]
     },
     "execution_count": 44,
     "metadata": {},
     "output_type": "execute_result"
    }
   ],
   "source": [
    "# Population in each part\n",
    "initial_partition['population']"
   ]
  },
  {
   "cell_type": "markdown",
   "metadata": {},
   "source": [
    "## Step 3: Setting up the Markov chain"
   ]
  },
  {
   "cell_type": "markdown",
   "metadata": {},
   "source": [
    "### Proposal"
   ]
  },
  {
   "cell_type": "code",
   "execution_count": 18,
   "metadata": {},
   "outputs": [
    {
     "name": "stdout",
     "output_type": "stream",
     "text": [
      "727365.8181426955\n"
     ]
    }
   ],
   "source": [
    "# The ReCom proposal needs to know the ideal population \n",
    "# for the districts so that we can improve speed by \n",
    "# bailing early on unbalanced partitions.\n",
    "ideal_population = \\\n",
    "    sum(initial_partition[\"population\"].values()) / len(initial_partition)\n",
    "print(ideal_population)"
   ]
  },
  {
   "cell_type": "code",
   "execution_count": 19,
   "metadata": {},
   "outputs": [],
   "source": [
    "# Use functools.partial to bind the extra parameters \n",
    "# (pop_col, pop_target, epsilon, node_repeats) of the recom proposal.\n",
    "proposal = partial(recom,\n",
    "                   pop_col=\"TOTPOP\",\n",
    "                   pop_target=ideal_population,\n",
    "                   epsilon=0.05,\n",
    "                   node_repeats=2)"
   ]
  },
  {
   "cell_type": "markdown",
   "metadata": {},
   "source": [
    "### Constraints"
   ]
  },
  {
   "cell_type": "code",
   "execution_count": 20,
   "metadata": {},
   "outputs": [],
   "source": [
    "# To keep districts about as compact as the original plan, \n",
    "# bound the number of cut edges at 2 times the number of cut edges \n",
    "# in the initial plan\n",
    "compactness_bound = constraints.UpperBound(\n",
    "    lambda p: len(p[\"cut_edges\"]),\n",
    "    2*len(initial_partition[\"cut_edges\"])\n",
    ")\n",
    "pop_constraint = \\\n",
    "    constraints.within_percent_of_ideal_population(initial_partition, 0.05)"
   ]
  },
  {
   "cell_type": "code",
   "execution_count": 147,
   "metadata": {},
   "outputs": [],
   "source": [
    "def minBVAP(partition, pop_target, pop_key=\"BVAP_population\", best=2):\n",
    "    \n",
    "    \"\"\"Constraint that requires a minimum of BVAP on the X best districts.\n",
    "\n",
    "    :param pop_target: minimum amount of population\n",
    "    :param pop_key: race identifier (can be generated from a Tally)\n",
    "    :param best: amount of districts that need to have at least the pop_target for the pop_key race.\n",
    "    \"\"\"\n",
    "    max_BVAP = sorted(partition[pop_key].values())\n",
    "    return pop_target < max_BVAP[-best]\n",
    "\n",
    "minBVAP_constraint = partial(minBVAP,\n",
    "                   pop_target=ideal_population*0.2\n",
    "                 )"
   ]
  },
  {
   "cell_type": "markdown",
   "metadata": {},
   "source": [
    "### Configuring the Markov chain"
   ]
  },
  {
   "cell_type": "markdown",
   "metadata": {},
   "source": [
    "# TODO:\n",
    "Now if the constraint is too high, we cannot start the algorithm.\n",
    "\n",
    "We must find a way to preserve the max value of the old partition instead of taking it as a param"
   ]
  },
  {
   "cell_type": "markdown",
   "metadata": {},
   "source": [
    "### Configuring the Markov chain"
   ]
  },
  {
   "cell_type": "code",
   "execution_count": 21,
   "metadata": {},
   "outputs": [],
   "source": [
    "chain = MarkovChain(\n",
    "    proposal=proposal,\n",
    "    constraints=[pop_constraint, compactness_bound],\n",
    "    accept=accept.always_accept,\n",
    "    initial_state=initial_partition,\n",
    "    total_steps=100\n",
    ")"
   ]
  },
  {
   "cell_type": "markdown",
   "metadata": {},
   "source": [
    "### Running the chain"
   ]
  },
  {
   "cell_type": "code",
   "execution_count": 22,
   "metadata": {},
   "outputs": [],
   "source": [
    "# Run the chain, putting the sorted Asian voting age population percentages\n",
    "# into a pandas DataFrame for analysis and plotting.\n",
    "# This will take about 10 minutes.\n",
    "\n",
    "asian_vpop = pd.DataFrame(\n",
    "    sorted(partition[\"VPOP\"].percents(\"Asian\"))\n",
    "    for partition in chain\n",
    ")"
   ]
  },
  {
   "cell_type": "code",
   "execution_count": 23,
   "metadata": {},
   "outputs": [
    {
     "data": {
      "image/png": "[encoded data removed]",
      "text/plain": [
       "<Figure size 720x576 with 1 Axes>"
      ]
     },
     "metadata": {
      "needs_background": "light"
     },
     "output_type": "display_data"
    }
   ],
   "source": [
    "fig, ax = plt.subplots(figsize=(10, 8))\n",
    "\n",
    "# Draw 50% line\n",
    "ax.axhline(0.5, color=\"#cccccc\")\n",
    "\n",
    "# Draw boxplot\n",
    "asian_vpop.boxplot(ax=ax, positions=range(len(asian_vpop.columns)))\n",
    "\n",
    "# Draw initial plan's Democratic vote %s (.iloc[0] gives the first row)\n",
    "plt.plot(asian_vpop.iloc[0], \"ro\")\n",
    "\n",
    "# Annotate\n",
    "ax.set_title(\"Comparing the 2012 plan to an ensemble\", fontsize=24)\n",
    "ax.set_ylabel(\"Asian Voting Age Population (%)\", fontsize=18)\n",
    "ax.set_xlabel(\"Sorted districts\", fontsize=18)\n",
    "ax.set_ylim(0, 1)\n",
    "ax.set_yticks([0, 0.25, 0.5, 0.75, 1])\n",
    "\n",
    "plt.show()"
   ]
  },
  {
   "cell_type": "code",
   "execution_count": 24,
   "metadata": {},
   "outputs": [],
   "source": [
    "dem_pres = pd.DataFrame(\n",
    "    sorted(partition[\"PRES16\"].percents(\"Democratic\"))\n",
    "    for partition in chain\n",
    ")"
   ]
  },
  {
   "cell_type": "code",
   "execution_count": 25,
   "metadata": {},
   "outputs": [
    {
     "data": {
      "image/png": "[encoded data removed]",
      "text/plain": [
       "<Figure size 720x576 with 1 Axes>"
      ]
     },
     "metadata": {
      "needs_background": "light"
     },
     "output_type": "display_data"
    }
   ],
   "source": [
    "fig, ax = plt.subplots(figsize=(10, 8))\n",
    "\n",
    "# Draw 50% line\n",
    "ax.axhline(0.5, color=\"#cccccc\")\n",
    "\n",
    "# Draw boxplot\n",
    "dem_pres.boxplot(ax=ax, positions=range(len(dem_pres.columns)))\n",
    "\n",
    "# Draw initial plan's Democratic vote %s (.iloc[0] gives the first row)\n",
    "plt.plot(dem_pres.iloc[0], \"ro\")\n",
    "\n",
    "# Annotate\n",
    "ax.set_title(\"Comparing the 2012 plan to an ensemble\", fontsize=24)\n",
    "ax.set_ylabel(\"Democratic Vote % (Presential Ele 2016)\", fontsize=18)\n",
    "ax.set_xlabel(\"Sorted districts\", fontsize=18)\n",
    "ax.set_ylim(0, 1)\n",
    "ax.set_yticks([0, 0.25, 0.5, 0.75, 1])\n",
    "\n",
    "plt.show()"
   ]
  },
  {
   "cell_type": "code",
   "execution_count": null,
   "metadata": {},
   "outputs": [],
   "source": []
  },
  {
   "cell_type": "code",
   "execution_count": null,
   "metadata": {},
   "outputs": [],
   "source": []
  },
  {
   "cell_type": "code",
   "execution_count": null,
   "metadata": {},
   "outputs": [],
   "source": []
  },
  {
   "cell_type": "code",
   "execution_count": null,
   "metadata": {},
   "outputs": [],
   "source": []
  }
 ],
 "metadata": {
  "kernelspec": {
   "display_name": "Python 3",
   "language": "python",
   "name": "python3"
  },
  "language_info": {
   "codemirror_mode": {
    "name": "ipython",
    "version": 3
   },
   "file_extension": ".py",
   "mimetype": "text/x-python",
   "name": "python",
   "nbconvert_exporter": "python",
   "pygments_lexer": "ipython3",
   "version": "3.7.7"
  }
 },
 "nbformat": 4,
 "nbformat_minor": 4
}
