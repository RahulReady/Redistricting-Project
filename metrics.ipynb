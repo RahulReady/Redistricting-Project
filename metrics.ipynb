{
 "cells": [
  {
   "cell_type": "markdown",
   "metadata": {},
   "source": [
    "# Virginia Redistricting Plan\n",
    "\n",
    "Steps to generate an ensemble of districting plans:\n",
    "\n",
    "* [Step 1](#step1): Setting up the initial districting plan\n",
    "    * Load the `.shp` file into a graph object\n",
    "    * Setting up updaters\n",
    "    * Instantiating the partition\n",
    "* [Step 2](#step2): Comuting metrics\n",
    "    * Partition districts\n",
    "    * Compactness scores\n",
    "    * Votes & Wasted Votes\n",
    "    * Efficiency gap\n",
    "    * Mean median\n",
    "    * Partisan bias\n",
    "    * Partisan gini\n",
    "\n",
    "    \n",
    "Resource:\n",
    "\n",
    "* [Virginia Election Shapefile](https://github.com/mggg-states/VA-shapefiles)\n",
    "* [Getting started with GerryChain](https://gerrychain.readthedocs.io/en/latest/user/quickstart.html)"
   ]
  },
  {
   "cell_type": "markdown",
   "metadata": {},
   "source": [
    "## Step 0: Imports"
   ]
  },
  {
   "cell_type": "code",
   "execution_count": 1,
   "metadata": {},
   "outputs": [],
   "source": [
    "from gerrychain import (GeographicPartition, \n",
    "                        Partition, \n",
    "                        Graph, \n",
    "                        MarkovChain,\n",
    "                        proposals, \n",
    "                        updaters, \n",
    "                        constraints, \n",
    "                        accept, \n",
    "                        Election)\n",
    "from gerrychain.constraints import (single_flip_contiguous, \n",
    "                                    no_more_discontiguous,\n",
    "                                    Validator)\n",
    "from gerrychain.updaters import Tally, cut_edges\n",
    "from gerrychain.proposals import propose_random_flip, recom\n",
    "from gerrychain.accept import always_accept\n",
    "\n",
    "import pandas as pd\n",
    "import numpy as np\n",
    "\n",
    "import matplotlib.pyplot as plt\n",
    "from functools import partial\n",
    "\n",
    "import networkx as nx\n",
    "import maup\n",
    "import geopandas\n",
    "\n",
    "import gerrychain\n",
    "import gerrychain.metrics as gm\n",
    "import gerrychain.metrics.partisan as pm"
   ]
  },
  {
   "cell_type": "code",
   "execution_count": 2,
   "metadata": {},
   "outputs": [],
   "source": [
    "pd.options.display.max_columns = None\n",
    "%matplotlib inline"
   ]
  },
  {
   "cell_type": "markdown",
   "metadata": {},
   "source": [
    "<a id='step1'></a>\n",
    "## Step 1: Setting up the initial districting plan"
   ]
  },
  {
   "cell_type": "markdown",
   "metadata": {},
   "source": [
    "### Generating a graph to be partitioned"
   ]
  },
  {
   "cell_type": "code",
   "execution_count": 3,
   "metadata": {
    "scrolled": true
   },
   "outputs": [
    {
     "name": "stderr",
     "output_type": "stream",
     "text": [
      "C:\\Users\\HONGW\\anaconda3\\envs\\gerrychain\\lib\\site-packages\\gerrychain\\graph\\adjacency.py:66: UserWarning: Found overlaps among the given polygons. Indices of overlaps: {(887, 892), (893, 915), (892, 914), (887, 893)}\n",
      "  warnings.warn(\n"
     ]
    }
   ],
   "source": [
    "# Loading the .shp file into a graph\n",
    "graph = Graph.from_file(\"va.shp\")"
   ]
  },
  {
   "cell_type": "markdown",
   "metadata": {},
   "source": [
    "### Setting up election data"
   ]
  },
  {
   "cell_type": "code",
   "execution_count": 4,
   "metadata": {},
   "outputs": [],
   "source": [
    "# Configure Election objects representing \n",
    "# some of the election data from shapefile\n",
    "elections = [\n",
    "    # Number of votes for 2016 presidential candidate\n",
    "    Election(\"PRES16\", {\"Democratic\": \"G16DPRS\", \n",
    "                        \"Republican\": \"G16RPRS\"})\n",
    "]\n",
    "elections_rd = [\n",
    "    # Number of votes for 2016 presidential candidate\n",
    "    Election(\"PRES16\", {\"Republican\": \"G16RPRS\",\n",
    "                        \"Democratic\": \"G16DPRS\"})\n",
    "]"
   ]
  },
  {
   "cell_type": "markdown",
   "metadata": {},
   "source": [
    "### Configuring our updaters"
   ]
  },
  {
   "cell_type": "code",
   "execution_count": 5,
   "metadata": {},
   "outputs": [],
   "source": [
    "# Configure our updaters \n",
    "my_updaters = {\n",
    "        \"cut_edges\": cut_edges,\n",
    "        \"population\": Tally(\"TOTPOP\", alias=\"population\"),\n",
    "        \"voting_population\": Tally(\"VAP\", alias=\"voting_population\")\n",
    "}\n",
    "election_updaters = \\\n",
    "    {election.name: election for election in elections}\n",
    "my_updaters.update(election_updaters)"
   ]
  },
  {
   "cell_type": "code",
   "execution_count": 6,
   "metadata": {},
   "outputs": [],
   "source": [
    "# Configure our updaters \n",
    "my_updaters_rd = {\n",
    "        \"cut_edges\": cut_edges,\n",
    "        \"population\": Tally(\"TOTPOP\", alias=\"population\"),\n",
    "        \"voting_population\": Tally(\"VAP\", alias=\"voting_population\")\n",
    "}\n",
    "election_updaters_rd = \\\n",
    "    {election.name: election for election in elections_rd}\n",
    "my_updaters_rd.update(election_updaters_rd)"
   ]
  },
  {
   "cell_type": "markdown",
   "metadata": {},
   "source": [
    "### Instantiating the partition"
   ]
  },
  {
   "cell_type": "code",
   "execution_count": 7,
   "metadata": {},
   "outputs": [],
   "source": [
    "# Instantiate the initial state of our Markov chain, \n",
    "# using 2012 enacted congressional district ID.\n",
    "initial_partition = GeographicPartition(graph, \n",
    "                              assignment=\"CD_12\", \n",
    "                              updaters=my_updaters)\n",
    "\n",
    "initial_partition_rd = GeographicPartition(graph, \n",
    "                              assignment=\"CD_12\", \n",
    "                              updaters=my_updaters_rd)"
   ]
  },
  {
   "cell_type": "markdown",
   "metadata": {},
   "source": [
    "<a id='step2'></a>\n",
    "## Metrics "
   ]
  },
  {
   "cell_type": "markdown",
   "metadata": {},
   "source": [
    "### Partition map"
   ]
  },
  {
   "cell_type": "code",
   "execution_count": 8,
   "metadata": {},
   "outputs": [],
   "source": [
    "def plot_partition(partition, title, figsize=(15,7)):\n",
    "    \"\"\"\n",
    "    Plot districting plan.\n",
    "    \"\"\"\n",
    "    initial_partition.plot(figsize=figsize, cmap=\"tab20\", legend=True)\n",
    "    plt.axis('off')\n",
    "    plt.title(title, fontsize=24)\n",
    "    plt.show()"
   ]
  },
  {
   "cell_type": "code",
   "execution_count": 9,
   "metadata": {
    "scrolled": true
   },
   "outputs": [
    {
     "data": {
      "image/png": "[encoded data removed]",
      "text/plain": [
       "<Figure size 1080x504 with 2 Axes>"
      ]
     },
     "metadata": {
      "needs_background": "light"
     },
     "output_type": "display_data"
    }
   ],
   "source": [
    "# Plotting districting plan\n",
    "title = \"2012 Enacted Congressional District\"\n",
    "plot_partition(initial_partition, title)"
   ]
  },
  {
   "cell_type": "markdown",
   "metadata": {},
   "source": [
    "### Compactness score\n",
    "\n",
    "A district's `Polsby-Popper score` falls with the range of `[0,1]` and a score closer to 1 indicates a more compact district."
   ]
  },
  {
   "cell_type": "code",
   "execution_count": 10,
   "metadata": {},
   "outputs": [
    {
     "name": "stdout",
     "output_type": "stream",
     "text": [
      "District: 8     Polsby-Popper compactness score: 0.25\n",
      "District: 2     Polsby-Popper compactness score: 0.20\n",
      "District: 4     Polsby-Popper compactness score: 0.19\n",
      "District: 9     Polsby-Popper compactness score: 0.18\n",
      "District: 1     Polsby-Popper compactness score: 0.17\n",
      "District: 6     Polsby-Popper compactness score: 0.16\n",
      "District: 5     Polsby-Popper compactness score: 0.15\n",
      "District: 7     Polsby-Popper compactness score: 0.13\n",
      "District: 10    Polsby-Popper compactness score: 0.12\n",
      "District: 11    Polsby-Popper compactness score: 0.09\n",
      "District: 3     Polsby-Popper compactness score: 0.08\n"
     ]
    }
   ],
   "source": [
    "# Compute Polsby-Popper compactness scores\n",
    "# for each district in the partition\n",
    "compact_scores = gm.polsby_popper(initial_partition)\n",
    "sorted_compact_scores = sorted(compact_scores.items(), \n",
    "                               key=lambda x: x[1], \n",
    "                               reverse=True)\n",
    "for dist, score in sorted_compact_scores:\n",
    "    print(\"District: {:<5}\".format(int(dist)),\n",
    "          \"Polsby-Popper compactness score: {:.2f}\".format(score, 2))"
   ]
  },
  {
   "cell_type": "markdown",
   "metadata": {},
   "source": [
    "### Vote\n",
    "\n",
    "The total number of votes that `party` received."
   ]
  },
  {
   "cell_type": "code",
   "execution_count": 11,
   "metadata": {},
   "outputs": [],
   "source": [
    "# 2016 Presidential Election\n",
    "election_pres16 = 'PRES16'\n",
    "pres16 = initial_partition[election_pres16]\n",
    "pres16_rd = initial_partition_rd[election_pres16]\n",
    "\n",
    "# U.S. parties\n",
    "parties = pres16.election.parties[:2]"
   ]
  },
  {
   "cell_type": "code",
   "execution_count": 12,
   "metadata": {},
   "outputs": [],
   "source": [
    "def compute_stats(election, parties, compute, stat):\n",
    "    \"\"\"\n",
    "    Compute statistics in the result of an election.\n",
    "    \"\"\"\n",
    "    for party in parties:\n",
    "        print(\"Party: {:15}\".format(party),  \n",
    "              \"{}: {:,}\".format(stat, compute(party)))"
   ]
  },
  {
   "cell_type": "code",
   "execution_count": 13,
   "metadata": {},
   "outputs": [
    {
     "name": "stdout",
     "output_type": "stream",
     "text": [
      "Party: Democratic      Total number of votes: 1,978,980\n",
      "Party: Republican      Total number of votes: 1,768,781\n"
     ]
    }
   ],
   "source": [
    "compute_stats(pres16, parties, pres16.count, 'Total number of votes')"
   ]
  },
  {
   "cell_type": "markdown",
   "metadata": {},
   "source": [
    "### Wasted votes\n",
    "\n",
    "Computes the wasted votes for each party in the given race. :party1_votes: the number of votes party1 received in the race :party2_votes: the number of votes party2 received in the race"
   ]
  },
  {
   "cell_type": "code",
   "execution_count": 14,
   "metadata": {},
   "outputs": [
    {
     "name": "stdout",
     "output_type": "stream",
     "text": [
      "Democratic: 105,099.5 Republican: 1,768,781\n"
     ]
    }
   ],
   "source": [
    "d, r = \\\n",
    "    gm.wasted_votes(pres16.count('Democratic'), pres16.count('Republican'))\n",
    "print(f\"Democratic: {d:,} Republican: {r:,}\")"
   ]
  },
  {
   "cell_type": "code",
   "execution_count": 15,
   "metadata": {},
   "outputs": [
    {
     "data": {
      "text/html": [
       "<style  type=\"text/css\" >\n",
       "</style><table id=\"T_675d623b_288c_11eb_a21f_c86000c3a223\" ><thead>    <tr>        <th class=\"blank level0\" ></th>        <th class=\"col_heading level0 col0\" >Democratic</th>        <th class=\"col_heading level0 col1\" >Republican</th>    </tr>    <tr>        <th class=\"index_name level0\" >District</th>        <th class=\"blank\" ></th>        <th class=\"blank\" ></th>    </tr></thead><tbody>\n",
       "                <tr>\n",
       "                        <th id=\"T_675d623b_288c_11eb_a21f_c86000c3a223level0_row0\" class=\"row_heading level0 row0\" >1</th>\n",
       "                        <td id=\"T_675d623b_288c_11eb_a21f_c86000c3a223row0_col0\" class=\"data row0 col0\" >165,747</td>\n",
       "                        <td id=\"T_675d623b_288c_11eb_a21f_c86000c3a223row0_col1\" class=\"data row0 col1\" >15,089</td>\n",
       "            </tr>\n",
       "            <tr>\n",
       "                        <th id=\"T_675d623b_288c_11eb_a21f_c86000c3a223level0_row1\" class=\"row_heading level0 row1\" >2</th>\n",
       "                        <td id=\"T_675d623b_288c_11eb_a21f_c86000c3a223row1_col0\" class=\"data row1 col0\" >132</td>\n",
       "                        <td id=\"T_675d623b_288c_11eb_a21f_c86000c3a223row1_col1\" class=\"data row1 col1\" >148,818</td>\n",
       "            </tr>\n",
       "            <tr>\n",
       "                        <th id=\"T_675d623b_288c_11eb_a21f_c86000c3a223level0_row2\" class=\"row_heading level0 row2\" >3</th>\n",
       "                        <td id=\"T_675d623b_288c_11eb_a21f_c86000c3a223row2_col0\" class=\"data row2 col0\" >89,861</td>\n",
       "                        <td id=\"T_675d623b_288c_11eb_a21f_c86000c3a223row2_col1\" class=\"data row2 col1\" >67,811</td>\n",
       "            </tr>\n",
       "            <tr>\n",
       "                        <th id=\"T_675d623b_288c_11eb_a21f_c86000c3a223level0_row3\" class=\"row_heading level0 row3\" >4</th>\n",
       "                        <td id=\"T_675d623b_288c_11eb_a21f_c86000c3a223row3_col0\" class=\"data row3 col0\" >164,013</td>\n",
       "                        <td id=\"T_675d623b_288c_11eb_a21f_c86000c3a223row3_col1\" class=\"data row3 col1\" >8,634</td>\n",
       "            </tr>\n",
       "            <tr>\n",
       "                        <th id=\"T_675d623b_288c_11eb_a21f_c86000c3a223level0_row4\" class=\"row_heading level0 row4\" >5</th>\n",
       "                        <td id=\"T_675d623b_288c_11eb_a21f_c86000c3a223row4_col0\" class=\"data row4 col0\" >153,029</td>\n",
       "                        <td id=\"T_675d623b_288c_11eb_a21f_c86000c3a223row4_col1\" class=\"data row4 col1\" >20,908</td>\n",
       "            </tr>\n",
       "            <tr>\n",
       "                        <th id=\"T_675d623b_288c_11eb_a21f_c86000c3a223level0_row5\" class=\"row_heading level0 row5\" >6</th>\n",
       "                        <td id=\"T_675d623b_288c_11eb_a21f_c86000c3a223row5_col0\" class=\"data row5 col0\" >120,447</td>\n",
       "                        <td id=\"T_675d623b_288c_11eb_a21f_c86000c3a223row5_col1\" class=\"data row5 col1\" >42,786</td>\n",
       "            </tr>\n",
       "            <tr>\n",
       "                        <th id=\"T_675d623b_288c_11eb_a21f_c86000c3a223level0_row6\" class=\"row_heading level0 row6\" >7</th>\n",
       "                        <td id=\"T_675d623b_288c_11eb_a21f_c86000c3a223row6_col0\" class=\"data row6 col0\" >173,387</td>\n",
       "                        <td id=\"T_675d623b_288c_11eb_a21f_c86000c3a223row6_col1\" class=\"data row6 col1\" >19,296</td>\n",
       "            </tr>\n",
       "            <tr>\n",
       "                        <th id=\"T_675d623b_288c_11eb_a21f_c86000c3a223level0_row7\" class=\"row_heading level0 row7\" >8</th>\n",
       "                        <td id=\"T_675d623b_288c_11eb_a21f_c86000c3a223row7_col0\" class=\"data row7 col0\" >97,632</td>\n",
       "                        <td id=\"T_675d623b_288c_11eb_a21f_c86000c3a223row7_col1\" class=\"data row7 col1\" >77,091</td>\n",
       "            </tr>\n",
       "            <tr>\n",
       "                        <th id=\"T_675d623b_288c_11eb_a21f_c86000c3a223level0_row8\" class=\"row_heading level0 row8\" >9</th>\n",
       "                        <td id=\"T_675d623b_288c_11eb_a21f_c86000c3a223row8_col0\" class=\"data row8 col0\" >86,635</td>\n",
       "                        <td id=\"T_675d623b_288c_11eb_a21f_c86000c3a223row8_col1\" class=\"data row8 col1\" >65,521</td>\n",
       "            </tr>\n",
       "            <tr>\n",
       "                        <th id=\"T_675d623b_288c_11eb_a21f_c86000c3a223level0_row9\" class=\"row_heading level0 row9\" >10</th>\n",
       "                        <td id=\"T_675d623b_288c_11eb_a21f_c86000c3a223row9_col0\" class=\"data row9 col0\" >18,664</td>\n",
       "                        <td id=\"T_675d623b_288c_11eb_a21f_c86000c3a223row9_col1\" class=\"data row9 col1\" >168,230</td>\n",
       "            </tr>\n",
       "            <tr>\n",
       "                        <th id=\"T_675d623b_288c_11eb_a21f_c86000c3a223level0_row10\" class=\"row_heading level0 row10\" >11</th>\n",
       "                        <td id=\"T_675d623b_288c_11eb_a21f_c86000c3a223row10_col0\" class=\"data row10 col0\" >71,045</td>\n",
       "                        <td id=\"T_675d623b_288c_11eb_a21f_c86000c3a223row10_col1\" class=\"data row10 col1\" >99,104</td>\n",
       "            </tr>\n",
       "    </tbody></table>"
      ],
      "text/plain": [
       "<pandas.io.formats.style.Styler at 0x230a1d07520>"
      ]
     },
     "execution_count": 15,
     "metadata": {},
     "output_type": "execute_result"
    }
   ],
   "source": [
    "wasted_votes = {\"Democratic\": [], \"Republican\": []}\n",
    "for d, r in zip(pres16.votes('Democratic'), pres16.votes('Republican')):\n",
    "    wd, wr = gm.wasted_votes(d, r)\n",
    "    wasted_votes['Democratic'].append(wd)\n",
    "    wasted_votes['Republican'].append(wr)\n",
    "wasted_votes.update({'District': range(1,12)})\n",
    "wasted_votes = pd.DataFrame(wasted_votes)\n",
    "wasted_votes = wasted_votes.set_index('District')\n",
    "wasted_votes = wasted_votes.style.format('{:,.0f}')\n",
    "wasted_votes"
   ]
  },
  {
   "cell_type": "markdown",
   "metadata": {},
   "source": [
    "### Votes by district\n",
    "\n",
    "The total votes cast for party in each district of the partition"
   ]
  },
  {
   "cell_type": "code",
   "execution_count": 16,
   "metadata": {},
   "outputs": [],
   "source": [
    "def compute_stats_by_district(compute, parties, style=True):\n",
    "    \"\"\"\n",
    "    Compute statistics for each district of each party.\n",
    "    \"\"\"\n",
    "    counts = pd.DataFrame({\n",
    "    'District': range(1, 12),\n",
    "    'Democratic Total Votes': compute(parties[0]),\n",
    "    'Republican Total Votes': compute(parties[1])})\n",
    "    counts = counts.set_index('District')\n",
    "    if style:\n",
    "        counts = counts.style.format('{:,}')\n",
    "    return counts"
   ]
  },
  {
   "cell_type": "code",
   "execution_count": 17,
   "metadata": {},
   "outputs": [
    {
     "data": {
      "text/html": [
       "<style  type=\"text/css\" >\n",
       "</style><table id=\"T_6ba9682c_288c_11eb_8827_c86000c3a223\" ><thead>    <tr>        <th class=\"blank level0\" ></th>        <th class=\"col_heading level0 col0\" >Democratic Total Votes</th>        <th class=\"col_heading level0 col1\" >Republican Total Votes</th>    </tr>    <tr>        <th class=\"index_name level0\" >District</th>        <th class=\"blank\" ></th>        <th class=\"blank\" ></th>    </tr></thead><tbody>\n",
       "                <tr>\n",
       "                        <th id=\"T_6ba9682c_288c_11eb_8827_c86000c3a223level0_row0\" class=\"row_heading level0 row0\" >1</th>\n",
       "                        <td id=\"T_6ba9682c_288c_11eb_8827_c86000c3a223row0_col0\" class=\"data row0 col0\" >165,747</td>\n",
       "                        <td id=\"T_6ba9682c_288c_11eb_8827_c86000c3a223row0_col1\" class=\"data row0 col1\" >195,925</td>\n",
       "            </tr>\n",
       "            <tr>\n",
       "                        <th id=\"T_6ba9682c_288c_11eb_8827_c86000c3a223level0_row1\" class=\"row_heading level0 row1\" >2</th>\n",
       "                        <td id=\"T_6ba9682c_288c_11eb_8827_c86000c3a223row1_col0\" class=\"data row1 col0\" >149,082</td>\n",
       "                        <td id=\"T_6ba9682c_288c_11eb_8827_c86000c3a223row1_col1\" class=\"data row1 col1\" >148,818</td>\n",
       "            </tr>\n",
       "            <tr>\n",
       "                        <th id=\"T_6ba9682c_288c_11eb_8827_c86000c3a223level0_row2\" class=\"row_heading level0 row2\" >3</th>\n",
       "                        <td id=\"T_6ba9682c_288c_11eb_8827_c86000c3a223row2_col0\" class=\"data row2 col0\" >247,533</td>\n",
       "                        <td id=\"T_6ba9682c_288c_11eb_8827_c86000c3a223row2_col1\" class=\"data row2 col1\" >67,811</td>\n",
       "            </tr>\n",
       "            <tr>\n",
       "                        <th id=\"T_6ba9682c_288c_11eb_8827_c86000c3a223level0_row3\" class=\"row_heading level0 row3\" >4</th>\n",
       "                        <td id=\"T_6ba9682c_288c_11eb_8827_c86000c3a223row3_col0\" class=\"data row3 col0\" >164,013</td>\n",
       "                        <td id=\"T_6ba9682c_288c_11eb_8827_c86000c3a223row3_col1\" class=\"data row3 col1\" >181,282</td>\n",
       "            </tr>\n",
       "            <tr>\n",
       "                        <th id=\"T_6ba9682c_288c_11eb_8827_c86000c3a223level0_row4\" class=\"row_heading level0 row4\" >5</th>\n",
       "                        <td id=\"T_6ba9682c_288c_11eb_8827_c86000c3a223row4_col0\" class=\"data row4 col0\" >153,029</td>\n",
       "                        <td id=\"T_6ba9682c_288c_11eb_8827_c86000c3a223row4_col1\" class=\"data row4 col1\" >194,844</td>\n",
       "            </tr>\n",
       "            <tr>\n",
       "                        <th id=\"T_6ba9682c_288c_11eb_8827_c86000c3a223level0_row5\" class=\"row_heading level0 row5\" >6</th>\n",
       "                        <td id=\"T_6ba9682c_288c_11eb_8827_c86000c3a223row5_col0\" class=\"data row5 col0\" >120,447</td>\n",
       "                        <td id=\"T_6ba9682c_288c_11eb_8827_c86000c3a223row5_col1\" class=\"data row5 col1\" >206,019</td>\n",
       "            </tr>\n",
       "            <tr>\n",
       "                        <th id=\"T_6ba9682c_288c_11eb_8827_c86000c3a223level0_row6\" class=\"row_heading level0 row6\" >7</th>\n",
       "                        <td id=\"T_6ba9682c_288c_11eb_8827_c86000c3a223row6_col0\" class=\"data row6 col0\" >173,387</td>\n",
       "                        <td id=\"T_6ba9682c_288c_11eb_8827_c86000c3a223row6_col1\" class=\"data row6 col1\" >211,980</td>\n",
       "            </tr>\n",
       "            <tr>\n",
       "                        <th id=\"T_6ba9682c_288c_11eb_8827_c86000c3a223level0_row7\" class=\"row_heading level0 row7\" >8</th>\n",
       "                        <td id=\"T_6ba9682c_288c_11eb_8827_c86000c3a223row7_col0\" class=\"data row7 col0\" >272,356</td>\n",
       "                        <td id=\"T_6ba9682c_288c_11eb_8827_c86000c3a223row7_col1\" class=\"data row7 col1\" >77,091</td>\n",
       "            </tr>\n",
       "            <tr>\n",
       "                        <th id=\"T_6ba9682c_288c_11eb_8827_c86000c3a223level0_row8\" class=\"row_heading level0 row8\" >9</th>\n",
       "                        <td id=\"T_6ba9682c_288c_11eb_8827_c86000c3a223row8_col0\" class=\"data row8 col0\" >86,635</td>\n",
       "                        <td id=\"T_6ba9682c_288c_11eb_8827_c86000c3a223row8_col1\" class=\"data row8 col1\" >217,677</td>\n",
       "            </tr>\n",
       "            <tr>\n",
       "                        <th id=\"T_6ba9682c_288c_11eb_8827_c86000c3a223level0_row9\" class=\"row_heading level0 row9\" >10</th>\n",
       "                        <td id=\"T_6ba9682c_288c_11eb_8827_c86000c3a223row9_col0\" class=\"data row9 col0\" >205,557</td>\n",
       "                        <td id=\"T_6ba9682c_288c_11eb_8827_c86000c3a223row9_col1\" class=\"data row9 col1\" >168,230</td>\n",
       "            </tr>\n",
       "            <tr>\n",
       "                        <th id=\"T_6ba9682c_288c_11eb_8827_c86000c3a223level0_row10\" class=\"row_heading level0 row10\" >11</th>\n",
       "                        <td id=\"T_6ba9682c_288c_11eb_8827_c86000c3a223row10_col0\" class=\"data row10 col0\" >241,194</td>\n",
       "                        <td id=\"T_6ba9682c_288c_11eb_8827_c86000c3a223row10_col1\" class=\"data row10 col1\" >99,104</td>\n",
       "            </tr>\n",
       "    </tbody></table>"
      ],
      "text/plain": [
       "<pandas.io.formats.style.Styler at 0x230a325bb50>"
      ]
     },
     "execution_count": 17,
     "metadata": {},
     "output_type": "execute_result"
    }
   ],
   "source": [
    "counts = compute_stats_by_district(pres16.counts, parties)\n",
    "counts"
   ]
  },
  {
   "cell_type": "markdown",
   "metadata": {},
   "source": [
    "### Percent\n",
    "\n",
    "The percentage of the vote that party received."
   ]
  },
  {
   "cell_type": "code",
   "execution_count": 18,
   "metadata": {},
   "outputs": [
    {
     "name": "stdout",
     "output_type": "stream",
     "text": [
      "Party: Democratic      Percentage of Total Votes: 0.5280432770392776\n",
      "Party: Republican      Percentage of Total Votes: 0.47195672296072244\n"
     ]
    }
   ],
   "source": [
    "compute_stats(pres16, parties, pres16.percent, \"Percentage of Total Votes\")"
   ]
  },
  {
   "cell_type": "markdown",
   "metadata": {},
   "source": [
    "### Percents by district\n",
    "\n",
    "The percentage of the vote that party received in each district of the partition."
   ]
  },
  {
   "cell_type": "code",
   "execution_count": 19,
   "metadata": {},
   "outputs": [
    {
     "data": {
      "text/html": [
       "<style  type=\"text/css\" >\n",
       "</style><table id=\"T_6dd0d506_288c_11eb_81c5_c86000c3a223\" ><thead>    <tr>        <th class=\"blank level0\" ></th>        <th class=\"col_heading level0 col0\" >Democratic Percentages of Total Votes</th>        <th class=\"col_heading level0 col1\" >Republican Percentages of Total Votes</th>    </tr>    <tr>        <th class=\"index_name level0\" >District</th>        <th class=\"blank\" ></th>        <th class=\"blank\" ></th>    </tr></thead><tbody>\n",
       "                <tr>\n",
       "                        <th id=\"T_6dd0d506_288c_11eb_81c5_c86000c3a223level0_row0\" class=\"row_heading level0 row0\" >1</th>\n",
       "                        <td id=\"T_6dd0d506_288c_11eb_81c5_c86000c3a223row0_col0\" class=\"data row0 col0\" >46</td>\n",
       "                        <td id=\"T_6dd0d506_288c_11eb_81c5_c86000c3a223row0_col1\" class=\"data row0 col1\" >54</td>\n",
       "            </tr>\n",
       "            <tr>\n",
       "                        <th id=\"T_6dd0d506_288c_11eb_81c5_c86000c3a223level0_row1\" class=\"row_heading level0 row1\" >2</th>\n",
       "                        <td id=\"T_6dd0d506_288c_11eb_81c5_c86000c3a223row1_col0\" class=\"data row1 col0\" >50</td>\n",
       "                        <td id=\"T_6dd0d506_288c_11eb_81c5_c86000c3a223row1_col1\" class=\"data row1 col1\" >50</td>\n",
       "            </tr>\n",
       "            <tr>\n",
       "                        <th id=\"T_6dd0d506_288c_11eb_81c5_c86000c3a223level0_row2\" class=\"row_heading level0 row2\" >3</th>\n",
       "                        <td id=\"T_6dd0d506_288c_11eb_81c5_c86000c3a223row2_col0\" class=\"data row2 col0\" >78</td>\n",
       "                        <td id=\"T_6dd0d506_288c_11eb_81c5_c86000c3a223row2_col1\" class=\"data row2 col1\" >22</td>\n",
       "            </tr>\n",
       "            <tr>\n",
       "                        <th id=\"T_6dd0d506_288c_11eb_81c5_c86000c3a223level0_row3\" class=\"row_heading level0 row3\" >4</th>\n",
       "                        <td id=\"T_6dd0d506_288c_11eb_81c5_c86000c3a223row3_col0\" class=\"data row3 col0\" >47</td>\n",
       "                        <td id=\"T_6dd0d506_288c_11eb_81c5_c86000c3a223row3_col1\" class=\"data row3 col1\" >53</td>\n",
       "            </tr>\n",
       "            <tr>\n",
       "                        <th id=\"T_6dd0d506_288c_11eb_81c5_c86000c3a223level0_row4\" class=\"row_heading level0 row4\" >5</th>\n",
       "                        <td id=\"T_6dd0d506_288c_11eb_81c5_c86000c3a223row4_col0\" class=\"data row4 col0\" >44</td>\n",
       "                        <td id=\"T_6dd0d506_288c_11eb_81c5_c86000c3a223row4_col1\" class=\"data row4 col1\" >56</td>\n",
       "            </tr>\n",
       "            <tr>\n",
       "                        <th id=\"T_6dd0d506_288c_11eb_81c5_c86000c3a223level0_row5\" class=\"row_heading level0 row5\" >6</th>\n",
       "                        <td id=\"T_6dd0d506_288c_11eb_81c5_c86000c3a223row5_col0\" class=\"data row5 col0\" >37</td>\n",
       "                        <td id=\"T_6dd0d506_288c_11eb_81c5_c86000c3a223row5_col1\" class=\"data row5 col1\" >63</td>\n",
       "            </tr>\n",
       "            <tr>\n",
       "                        <th id=\"T_6dd0d506_288c_11eb_81c5_c86000c3a223level0_row6\" class=\"row_heading level0 row6\" >7</th>\n",
       "                        <td id=\"T_6dd0d506_288c_11eb_81c5_c86000c3a223row6_col0\" class=\"data row6 col0\" >45</td>\n",
       "                        <td id=\"T_6dd0d506_288c_11eb_81c5_c86000c3a223row6_col1\" class=\"data row6 col1\" >55</td>\n",
       "            </tr>\n",
       "            <tr>\n",
       "                        <th id=\"T_6dd0d506_288c_11eb_81c5_c86000c3a223level0_row7\" class=\"row_heading level0 row7\" >8</th>\n",
       "                        <td id=\"T_6dd0d506_288c_11eb_81c5_c86000c3a223row7_col0\" class=\"data row7 col0\" >78</td>\n",
       "                        <td id=\"T_6dd0d506_288c_11eb_81c5_c86000c3a223row7_col1\" class=\"data row7 col1\" >22</td>\n",
       "            </tr>\n",
       "            <tr>\n",
       "                        <th id=\"T_6dd0d506_288c_11eb_81c5_c86000c3a223level0_row8\" class=\"row_heading level0 row8\" >9</th>\n",
       "                        <td id=\"T_6dd0d506_288c_11eb_81c5_c86000c3a223row8_col0\" class=\"data row8 col0\" >28</td>\n",
       "                        <td id=\"T_6dd0d506_288c_11eb_81c5_c86000c3a223row8_col1\" class=\"data row8 col1\" >72</td>\n",
       "            </tr>\n",
       "            <tr>\n",
       "                        <th id=\"T_6dd0d506_288c_11eb_81c5_c86000c3a223level0_row9\" class=\"row_heading level0 row9\" >10</th>\n",
       "                        <td id=\"T_6dd0d506_288c_11eb_81c5_c86000c3a223row9_col0\" class=\"data row9 col0\" >55</td>\n",
       "                        <td id=\"T_6dd0d506_288c_11eb_81c5_c86000c3a223row9_col1\" class=\"data row9 col1\" >45</td>\n",
       "            </tr>\n",
       "            <tr>\n",
       "                        <th id=\"T_6dd0d506_288c_11eb_81c5_c86000c3a223level0_row10\" class=\"row_heading level0 row10\" >11</th>\n",
       "                        <td id=\"T_6dd0d506_288c_11eb_81c5_c86000c3a223row10_col0\" class=\"data row10 col0\" >71</td>\n",
       "                        <td id=\"T_6dd0d506_288c_11eb_81c5_c86000c3a223row10_col1\" class=\"data row10 col1\" >29</td>\n",
       "            </tr>\n",
       "    </tbody></table>"
      ],
      "text/plain": [
       "<pandas.io.formats.style.Styler at 0x230a33766d0>"
      ]
     },
     "execution_count": 19,
     "metadata": {},
     "output_type": "execute_result"
    }
   ],
   "source": [
    "percentages = pd.DataFrame({\n",
    "    'District': range(1, 12),\n",
    "    'Democratic Percentages of Total Votes': pres16.percents(parties[0]),\n",
    "    'Republican Percentages of Total Votes': pres16.percents(parties[1])})\n",
    "percentages.iloc[:, 1:] = percentages.iloc[:, 1:].mul(100)\n",
    "percentages = percentages.set_index('District')\n",
    "percentages = percentages.style.format('{:.0f}')\n",
    "percentages"
   ]
  },
  {
   "cell_type": "markdown",
   "metadata": {},
   "source": [
    "### Seats\n",
    "\n",
    "The number of seats won by a party in the election."
   ]
  },
  {
   "cell_type": "code",
   "execution_count": 20,
   "metadata": {},
   "outputs": [
    {
     "name": "stdout",
     "output_type": "stream",
     "text": [
      "Party: Democratic      Seats won: 5\n",
      "Party: Republican      Seats won: 6\n"
     ]
    }
   ],
   "source": [
    "compute_stats(pres16, parties, pres16.seats, 'Seats won')"
   ]
  },
  {
   "cell_type": "markdown",
   "metadata": {},
   "source": [
    "### Efficiency gap\n",
    "\n",
    "Computes the efficiency gap for this ElectionResults object. `A positive value` indicates `an advantage` for `the first party` listed in the Election’s parties_to_columns dictionary."
   ]
  },
  {
   "cell_type": "code",
   "execution_count": 21,
   "metadata": {},
   "outputs": [
    {
     "data": {
      "text/plain": [
       "-0.1086791553676982"
      ]
     },
     "execution_count": 21,
     "metadata": {},
     "output_type": "execute_result"
    }
   ],
   "source": [
    "pres16.efficiency_gap()"
   ]
  },
  {
   "cell_type": "code",
   "execution_count": 22,
   "metadata": {},
   "outputs": [
    {
     "data": {
      "text/plain": [
       "0.1086791553676982"
      ]
     },
     "execution_count": 22,
     "metadata": {},
     "output_type": "execute_result"
    }
   ],
   "source": [
    "pres16_rd.efficiency_gap()"
   ]
  },
  {
   "cell_type": "markdown",
   "metadata": {},
   "source": [
    "### Mean Median\n",
    "\n",
    "Computes the Mean-Median score for the given ElectionResults. `A positive value` indicates `an advantage` for `the first party` listed in the Election’s parties_to_columns dictionary."
   ]
  },
  {
   "cell_type": "code",
   "execution_count": 23,
   "metadata": {},
   "outputs": [
    {
     "data": {
      "text/plain": [
       "-0.05230007534447001"
      ]
     },
     "execution_count": 23,
     "metadata": {},
     "output_type": "execute_result"
    }
   ],
   "source": [
    "# Compute the Mean-Median score for the 2016 Presidential election\n",
    "pres16.mean_median()"
   ]
  },
  {
   "cell_type": "code",
   "execution_count": 24,
   "metadata": {},
   "outputs": [
    {
     "data": {
      "text/plain": [
       "0.052300075344470065"
      ]
     },
     "execution_count": 24,
     "metadata": {},
     "output_type": "execute_result"
    }
   ],
   "source": [
    "pres16_rd.mean_median()"
   ]
  },
  {
   "cell_type": "markdown",
   "metadata": {},
   "source": [
    "### Partisan bias\n",
    "\n",
    "Computes the partisan bias for the given ElectionResults. The partisan bias is defined as the number of districts with above-mean vote share by the first party divided by the total number of districts, minus 1/2."
   ]
  },
  {
   "cell_type": "code",
   "execution_count": 25,
   "metadata": {},
   "outputs": [
    {
     "data": {
      "text/plain": [
       "-0.13636363636363635"
      ]
     },
     "execution_count": 25,
     "metadata": {},
     "output_type": "execute_result"
    }
   ],
   "source": [
    "pres16.partisan_bias()"
   ]
  },
  {
   "cell_type": "code",
   "execution_count": 26,
   "metadata": {},
   "outputs": [
    {
     "data": {
      "text/plain": [
       "0.13636363636363635"
      ]
     },
     "execution_count": 26,
     "metadata": {},
     "output_type": "execute_result"
    }
   ],
   "source": [
    "pres16_rd.partisan_bias()"
   ]
  },
  {
   "cell_type": "markdown",
   "metadata": {},
   "source": [
    "### Partisan gini\n",
    "\n",
    "Computes the partisan Gini score for the given ElectionResults. The partisan Gini score is defined as the area between the seats-votes curve and its reflection about (.5, .5)."
   ]
  },
  {
   "cell_type": "code",
   "execution_count": 27,
   "metadata": {},
   "outputs": [
    {
     "data": {
      "text/plain": [
       "0.07364374794026013"
      ]
     },
     "execution_count": 27,
     "metadata": {},
     "output_type": "execute_result"
    }
   ],
   "source": [
    "pres16.partisan_gini()"
   ]
  },
  {
   "cell_type": "code",
   "execution_count": 28,
   "metadata": {},
   "outputs": [
    {
     "data": {
      "text/plain": [
       "0.07364374794026017"
      ]
     },
     "execution_count": 28,
     "metadata": {},
     "output_type": "execute_result"
    }
   ],
   "source": [
    "pres16_rd.partisan_gini()"
   ]
  },
  {
   "cell_type": "markdown",
   "metadata": {},
   "source": [
    "<a id='step3'></a>\n",
    "## Step 3: Setting up the Markov chain"
   ]
  },
  {
   "cell_type": "markdown",
   "metadata": {},
   "source": [
    "### Proposal"
   ]
  },
  {
   "cell_type": "code",
   "execution_count": null,
   "metadata": {},
   "outputs": [],
   "source": [
    "# The ReCom proposal needs to know the ideal population \n",
    "# for the districts so that we can improve speed by \n",
    "# bailing early on unbalanced partitions.\n",
    "ideal_population = \\\n",
    "    sum(initial_partition[\"population\"].values()) / len(initial_partition)\n",
    "print(ideal_population)"
   ]
  },
  {
   "cell_type": "code",
   "execution_count": null,
   "metadata": {},
   "outputs": [],
   "source": [
    "# Use functools.partial to bind the extra parameters \n",
    "# (pop_col, pop_target, epsilon, node_repeats) of the recom proposal.\n",
    "proposal = partial(recom,\n",
    "                   pop_col=\"TOTPOP\",\n",
    "                   pop_target=ideal_population,\n",
    "                   epsilon=0.05,\n",
    "                   node_repeats=2)"
   ]
  },
  {
   "cell_type": "markdown",
   "metadata": {},
   "source": [
    "### Constraints"
   ]
  },
  {
   "cell_type": "code",
   "execution_count": null,
   "metadata": {},
   "outputs": [],
   "source": [
    "# To keep districts about as compact as the original plan, \n",
    "# bound the number of cut edges at 2 times the number of cut edges \n",
    "# in the initial plan\n",
    "compactness_bound = constraints.UpperBound(\n",
    "    lambda p: len(p[\"cut_edges\"]),\n",
    "    2*len(initial_partition[\"cut_edges\"])\n",
    ")\n",
    "pop_constraint = \\\n",
    "    constraints.within_percent_of_ideal_population(initial_partition, 0.05)"
   ]
  },
  {
   "cell_type": "markdown",
   "metadata": {},
   "source": [
    "### Configuring the Markov chain"
   ]
  },
  {
   "cell_type": "code",
   "execution_count": null,
   "metadata": {},
   "outputs": [],
   "source": [
    "chain = MarkovChain(\n",
    "    proposal=proposal,\n",
    "    constraints=[pop_constraint, compactness_bound],\n",
    "    accept=accept.always_accept,\n",
    "    initial_state=initial_partition,\n",
    "    total_steps=1000\n",
    ")"
   ]
  },
  {
   "cell_type": "markdown",
   "metadata": {},
   "source": [
    "<a id='step4'></a>\n",
    "## Step 4:Running the chain"
   ]
  },
  {
   "cell_type": "code",
   "execution_count": null,
   "metadata": {},
   "outputs": [],
   "source": [
    "# Run the chain, putting the sorted Asian voting age population percentages\n",
    "# into a pandas DataFrame for analysis and plotting.\n",
    "# This will take about 10 minutes.\n",
    "\n",
    "asian_vpop = pd.DataFrame(\n",
    "    sorted(partition[\"VPOP\"].percents(\"Asian\"))\n",
    "    for partition in chain\n",
    ")"
   ]
  },
  {
   "cell_type": "code",
   "execution_count": null,
   "metadata": {},
   "outputs": [],
   "source": [
    "asian_vpop.shape"
   ]
  },
  {
   "cell_type": "code",
   "execution_count": null,
   "metadata": {},
   "outputs": [],
   "source": [
    "def plot_dist(df, title, ylab, xlab=\"Sorted districts\", figsize=(10,8)):\n",
    "    \"\"\"Plot distribution of each plan for each district.\"\"\"\n",
    "    fig, ax = plt.subplots(figsize=figsize)\n",
    "\n",
    "    # Draw 50% line\n",
    "    ax.axhline(0.5, color=\"#cccccc\")\n",
    "\n",
    "    # Draw boxplot\n",
    "    df.boxplot(ax=ax, positions=range(len(df.columns)))\n",
    "\n",
    "    # Draw initial plan's Democratic vote %s (.iloc[0] gives the first row)\n",
    "    plt.plot(df.iloc[0], \"ro\")\n",
    "\n",
    "    # Annotate\n",
    "    ax.set_title(title, fontsize=24)\n",
    "    ax.set_ylabel(ylab, fontsize=18)\n",
    "    ax.set_xlabel(xlab, fontsize=18)\n",
    "    ax.set_ylim(0, 1)\n",
    "    ax.set_yticks([0, 0.25, 0.5, 0.75, 1])\n",
    "\n",
    "    plt.show()"
   ]
  },
  {
   "cell_type": "code",
   "execution_count": null,
   "metadata": {},
   "outputs": [],
   "source": [
    "title = \"Comparing the 2012 plan to an ensemble\"\n",
    "ylab = \"Asian Voting Age Population (%)\"\n",
    "plot_dist(asian_vpop, title, ylab)"
   ]
  },
  {
   "cell_type": "code",
   "execution_count": null,
   "metadata": {},
   "outputs": [],
   "source": [
    "dem_pres = pd.DataFrame(\n",
    "    sorted(partition[\"PRES16\"].percents(\"Democratic\"))\n",
    "    for partition in chain\n",
    ")"
   ]
  },
  {
   "cell_type": "code",
   "execution_count": null,
   "metadata": {},
   "outputs": [],
   "source": [
    "ylab = \"Democratic Vote % (Presential Ele 2016)\"\n",
    "plot_dist(dem_pres, title, ylab)\n"
   ]
  }
 ],
 "metadata": {
  "kernelspec": {
   "display_name": "Python 3",
   "language": "python",
   "name": "python3"
  },
  "language_info": {
   "codemirror_mode": {
    "name": "ipython",
    "version": 3
   },
   "file_extension": ".py",
   "mimetype": "text/x-python",
   "name": "python",
   "nbconvert_exporter": "python",
   "pygments_lexer": "ipython3",
   "version": "3.8.6"
  }
 },
 "nbformat": 4,
 "nbformat_minor": 4
}
